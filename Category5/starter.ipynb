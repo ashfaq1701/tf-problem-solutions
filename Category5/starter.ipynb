{
 "cells": [
  {
   "cell_type": "code",
   "execution_count": 2,
   "metadata": {
    "collapsed": true,
    "ExecuteTime": {
     "end_time": "2023-05-31T22:19:34.131932Z",
     "start_time": "2023-05-31T22:19:31.050331Z"
    }
   },
   "outputs": [
    {
     "data": {
      "text/plain": "'2.10.0'"
     },
     "execution_count": 2,
     "metadata": {},
     "output_type": "execute_result"
    }
   ],
   "source": [
    "import numpy as np\n",
    "import pandas as pd\n",
    "import tensorflow as tf\n",
    "import tensorflow_datasets as tfds\n",
    "import urllib\n",
    "import zipfile\n",
    "\n",
    "tf.__version__"
   ]
  },
  {
   "cell_type": "code",
   "execution_count": 2,
   "outputs": [],
   "source": [
    "def download_and_extract_data():\n",
    "    url = 'https://storage.googleapis.com/download.tensorflow.org/data/certificate/household_power.zip'\n",
    "    urllib.request.urlretrieve(url, 'household_power.zip')\n",
    "    with zipfile.ZipFile('household_power.zip', 'r') as zip_ref:\n",
    "        zip_ref.extractall()"
   ],
   "metadata": {
    "collapsed": false,
    "ExecuteTime": {
     "end_time": "2023-05-23T22:26:18.290115Z",
     "start_time": "2023-05-23T22:26:18.284131Z"
    }
   }
  },
  {
   "cell_type": "code",
   "execution_count": 3,
   "outputs": [],
   "source": [
    "download_and_extract_data()"
   ],
   "metadata": {
    "collapsed": false,
    "ExecuteTime": {
     "end_time": "2023-05-23T22:26:20.340987Z",
     "start_time": "2023-05-23T22:26:18.997771Z"
    }
   }
  },
  {
   "cell_type": "code",
   "execution_count": 4,
   "outputs": [],
   "source": [
    "df = pd.read_csv('household_power_consumption.csv', sep=',',\n",
    "                     infer_datetime_format=True, index_col='datetime', header=0)"
   ],
   "metadata": {
    "collapsed": false,
    "ExecuteTime": {
     "end_time": "2023-05-23T22:26:22.808727Z",
     "start_time": "2023-05-23T22:26:22.742070Z"
    }
   }
  },
  {
   "cell_type": "code",
   "execution_count": 5,
   "outputs": [],
   "source": [
    "N_FEATURES = len(df.columns)"
   ],
   "metadata": {
    "collapsed": false,
    "ExecuteTime": {
     "end_time": "2023-05-23T22:26:23.460673Z",
     "start_time": "2023-05-23T22:26:23.455203Z"
    }
   }
  },
  {
   "cell_type": "code",
   "execution_count": 6,
   "outputs": [
    {
     "data": {
      "text/plain": "array([[  4.216,   0.418, 234.84 ,  18.4  ,   0.   ,   1.   ,  17.   ],\n       [  5.36 ,   0.436, 233.63 ,  23.   ,   0.   ,   1.   ,  16.   ],\n       [  5.374,   0.498, 233.29 ,  23.   ,   0.   ,   2.   ,  17.   ],\n       [  5.388,   0.502, 233.74 ,  23.   ,   0.   ,   1.   ,  17.   ],\n       [  3.666,   0.528, 235.68 ,  15.8  ,   0.   ,   1.   ,  17.   ],\n       [  3.52 ,   0.522, 235.02 ,  15.   ,   0.   ,   2.   ,  17.   ],\n       [  3.702,   0.52 , 235.09 ,  15.8  ,   0.   ,   1.   ,  17.   ],\n       [  3.7  ,   0.52 , 235.22 ,  15.8  ,   0.   ,   1.   ,  17.   ],\n       [  3.668,   0.51 , 233.99 ,  15.8  ,   0.   ,   1.   ,  17.   ],\n       [  3.662,   0.51 , 233.86 ,  15.8  ,   0.   ,   2.   ,  16.   ]])"
     },
     "execution_count": 6,
     "metadata": {},
     "output_type": "execute_result"
    }
   ],
   "source": [
    "data = df.values\n",
    "data[:10]"
   ],
   "metadata": {
    "collapsed": false,
    "ExecuteTime": {
     "end_time": "2023-05-23T22:26:24.084374Z",
     "start_time": "2023-05-23T22:26:24.078621Z"
    }
   }
  },
  {
   "cell_type": "code",
   "execution_count": 7,
   "outputs": [],
   "source": [
    "def normalize_series(data, min, max):\n",
    "    data = data - min\n",
    "    data = data / max\n",
    "    return data"
   ],
   "metadata": {
    "collapsed": false,
    "ExecuteTime": {
     "end_time": "2023-05-23T22:26:25.106666Z",
     "start_time": "2023-05-23T22:26:25.100171Z"
    }
   }
  },
  {
   "cell_type": "code",
   "execution_count": 8,
   "outputs": [],
   "source": [
    "data = normalize_series(data, data.min(axis=0), data.max(axis=0))"
   ],
   "metadata": {
    "collapsed": false,
    "ExecuteTime": {
     "end_time": "2023-05-23T22:26:25.751172Z",
     "start_time": "2023-05-23T22:26:25.740042Z"
    }
   }
  },
  {
   "cell_type": "code",
   "execution_count": 9,
   "outputs": [
    {
     "data": {
      "text/plain": "array([[0.43377912, 0.47826087, 0.04036551, 0.43564356, 0.        ,\n        0.01282051, 0.85      ],\n       [0.55716135, 0.49885584, 0.0355582 , 0.54950495, 0.        ,\n        0.01282051, 0.8       ],\n       [0.55867127, 0.56979405, 0.03420739, 0.54950495, 0.        ,\n        0.02564103, 0.85      ],\n       [0.56018119, 0.57437071, 0.03599523, 0.54950495, 0.        ,\n        0.01282051, 0.85      ],\n       [0.37446074, 0.60411899, 0.04370282, 0.37128713, 0.        ,\n        0.01282051, 0.85      ],\n       [0.35871441, 0.597254  , 0.04108065, 0.35148515, 0.        ,\n        0.02564103, 0.85      ],\n       [0.3783434 , 0.59496568, 0.04135876, 0.37128713, 0.        ,\n        0.01282051, 0.85      ],\n       [0.3781277 , 0.59496568, 0.04187525, 0.37128713, 0.        ,\n        0.01282051, 0.85      ],\n       [0.37467645, 0.58352403, 0.03698848, 0.37128713, 0.        ,\n        0.01282051, 0.85      ],\n       [0.37402934, 0.58352403, 0.03647199, 0.37128713, 0.        ,\n        0.02564103, 0.8       ]])"
     },
     "execution_count": 9,
     "metadata": {},
     "output_type": "execute_result"
    }
   ],
   "source": [
    "data[:10]"
   ],
   "metadata": {
    "collapsed": false,
    "ExecuteTime": {
     "end_time": "2023-05-23T22:26:26.318868Z",
     "start_time": "2023-05-23T22:26:26.313755Z"
    }
   }
  },
  {
   "cell_type": "code",
   "execution_count": 10,
   "outputs": [],
   "source": [
    "SPLIT_TIME = int(len(data) * 0.5)"
   ],
   "metadata": {
    "collapsed": false,
    "ExecuteTime": {
     "end_time": "2023-05-23T22:26:27.066489Z",
     "start_time": "2023-05-23T22:26:27.059612Z"
    }
   }
  },
  {
   "cell_type": "code",
   "execution_count": 11,
   "outputs": [],
   "source": [
    "x_train = data[:SPLIT_TIME]\n",
    "x_valid = data[SPLIT_TIME:]"
   ],
   "metadata": {
    "collapsed": false,
    "ExecuteTime": {
     "end_time": "2023-05-23T22:26:27.651610Z",
     "start_time": "2023-05-23T22:26:27.642948Z"
    }
   }
  },
  {
   "cell_type": "code",
   "execution_count": 12,
   "outputs": [
    {
     "data": {
      "text/plain": "((43200, 7), (43200, 7))"
     },
     "execution_count": 12,
     "metadata": {},
     "output_type": "execute_result"
    }
   ],
   "source": [
    "x_train.shape, x_valid.shape"
   ],
   "metadata": {
    "collapsed": false,
    "ExecuteTime": {
     "end_time": "2023-05-23T22:26:28.180057Z",
     "start_time": "2023-05-23T22:26:28.174494Z"
    }
   }
  },
  {
   "cell_type": "code",
   "execution_count": 13,
   "outputs": [],
   "source": [
    "BATCH_SIZE = 32\n",
    "N_PAST = 24\n",
    "N_FUTURE = 24\n",
    "SHIFT = 1"
   ],
   "metadata": {
    "collapsed": false,
    "ExecuteTime": {
     "end_time": "2023-05-23T22:26:28.801617Z",
     "start_time": "2023-05-23T22:26:28.792965Z"
    }
   }
  },
  {
   "cell_type": "code",
   "execution_count": 14,
   "outputs": [],
   "source": [
    "def windowed_dataset(series, batch_size, n_past=24, n_future=24, shift=1):\n",
    "    ds = tf.data.Dataset.from_tensor_slices(series)\n",
    "    ds = ds.window(size=n_past + n_future, shift=shift, drop_remainder=True)\n",
    "    ds = ds.flat_map(lambda w: w.batch(n_past + n_future))\n",
    "    ds = ds.map(lambda w: (w[:n_past], w[n_past:]))\n",
    "    return ds.batch(batch_size).prefetch(1)"
   ],
   "metadata": {
    "collapsed": false,
    "ExecuteTime": {
     "end_time": "2023-05-23T22:26:29.421238Z",
     "start_time": "2023-05-23T22:26:29.414163Z"
    }
   }
  },
  {
   "cell_type": "code",
   "execution_count": 15,
   "outputs": [],
   "source": [
    "train_set = windowed_dataset(series=x_train, batch_size=BATCH_SIZE,\n",
    "                                 n_past=N_PAST, n_future=N_FUTURE,\n",
    "                                 shift=SHIFT)"
   ],
   "metadata": {
    "collapsed": false,
    "ExecuteTime": {
     "end_time": "2023-05-23T22:26:30.082522Z",
     "start_time": "2023-05-23T22:26:30.047448Z"
    }
   }
  },
  {
   "cell_type": "code",
   "execution_count": 16,
   "outputs": [],
   "source": [
    "valid_set = windowed_dataset(series=x_valid, batch_size=BATCH_SIZE,\n",
    "                                 n_past=N_PAST, n_future=N_FUTURE,\n",
    "                                 shift=SHIFT)"
   ],
   "metadata": {
    "collapsed": false,
    "ExecuteTime": {
     "end_time": "2023-05-23T22:26:30.702448Z",
     "start_time": "2023-05-23T22:26:30.684046Z"
    }
   }
  },
  {
   "cell_type": "code",
   "execution_count": 17,
   "outputs": [],
   "source": [
    "tf.random.set_seed(42)\n",
    "\n",
    "inputs = tf.keras.layers.Input(shape=(N_PAST, N_FEATURES))\n",
    "x = tf.keras.layers.LSTM(128, activation=\"relu\", return_sequences=True)(inputs)\n",
    "x = tf.keras.layers.LSTM(128, activation=\"relu\")(x)\n",
    "x = tf.keras.layers.Flatten()(x)\n",
    "x = tf.keras.layers.Dense(N_FUTURE * N_FEATURES)(x)\n",
    "outputs = tf.keras.layers.Reshape((N_FUTURE, N_FEATURES))(x)\n",
    "model_1 = tf.keras.Model(inputs = inputs, outputs = outputs, name = \"model_1\")"
   ],
   "metadata": {
    "collapsed": false,
    "ExecuteTime": {
     "end_time": "2023-05-23T22:26:31.364136Z",
     "start_time": "2023-05-23T22:26:31.270823Z"
    }
   }
  },
  {
   "cell_type": "code",
   "execution_count": 18,
   "outputs": [],
   "source": [
    "model_1.compile(loss = \"mae\",\n",
    "                optimizer = tf.keras.optimizers.Adam(),\n",
    "                metrics=[\"accuracy\"])"
   ],
   "metadata": {
    "collapsed": false,
    "ExecuteTime": {
     "end_time": "2023-05-23T22:26:32.595576Z",
     "start_time": "2023-05-23T22:26:32.587581Z"
    }
   }
  },
  {
   "cell_type": "code",
   "execution_count": 19,
   "outputs": [
    {
     "name": "stdout",
     "output_type": "stream",
     "text": [
      "Epoch 1/10\n"
     ]
    },
    {
     "name": "stderr",
     "output_type": "stream",
     "text": [
      "2023-05-23 23:26:33.189902: W tensorflow/core/platform/profile_utils/cpu_utils.cc:128] Failed to get CPU frequency: 0 Hz\n"
     ]
    },
    {
     "name": "stdout",
     "output_type": "stream",
     "text": [
      "1349/1349 [==============================] - 40s 29ms/step - loss: 0.0667 - accuracy: 0.6316 - val_loss: 0.0540 - val_accuracy: 0.6765\n",
      "Epoch 2/10\n",
      "1349/1349 [==============================] - 39s 29ms/step - loss: 0.0532 - accuracy: 0.7016 - val_loss: 0.0500 - val_accuracy: 0.6842\n",
      "Epoch 3/10\n",
      "1349/1349 [==============================] - 40s 30ms/step - loss: 0.0489 - accuracy: 0.7100 - val_loss: 0.0481 - val_accuracy: 0.6926\n",
      "Epoch 4/10\n",
      "1349/1349 [==============================] - 41s 30ms/step - loss: 0.0480 - accuracy: 0.7147 - val_loss: 0.0463 - val_accuracy: 0.6966\n",
      "Epoch 5/10\n",
      "1349/1349 [==============================] - 42s 31ms/step - loss: 0.0470 - accuracy: 0.7169 - val_loss: 0.0457 - val_accuracy: 0.7013\n",
      "Epoch 6/10\n",
      "1349/1349 [==============================] - 41s 31ms/step - loss: 0.0460 - accuracy: 0.7210 - val_loss: 0.0455 - val_accuracy: 0.7053\n",
      "Epoch 7/10\n",
      "1349/1349 [==============================] - 42s 31ms/step - loss: 0.0454 - accuracy: 0.7242 - val_loss: 0.0456 - val_accuracy: 0.7051\n",
      "Epoch 8/10\n",
      "1349/1349 [==============================] - 43s 32ms/step - loss: 0.0449 - accuracy: 0.7296 - val_loss: 0.0445 - val_accuracy: 0.7051\n",
      "Epoch 9/10\n",
      "1349/1349 [==============================] - 42s 31ms/step - loss: 0.0440 - accuracy: 0.7336 - val_loss: 0.0440 - val_accuracy: 0.7189\n",
      "Epoch 10/10\n",
      "1349/1349 [==============================] - 41s 31ms/step - loss: 0.0432 - accuracy: 0.7421 - val_loss: 0.0434 - val_accuracy: 0.7231\n"
     ]
    },
    {
     "data": {
      "text/plain": "<keras.callbacks.History at 0x29901bd90>"
     },
     "execution_count": 19,
     "metadata": {},
     "output_type": "execute_result"
    }
   ],
   "source": [
    "model_1.fit(train_set,\n",
    "            epochs=10,\n",
    "            validation_data=valid_set,\n",
    "            callbacks=[tf.keras.callbacks.EarlyStopping(monitor=\"val_loss\", patience=100, restore_best_weights=True)])"
   ],
   "metadata": {
    "collapsed": false,
    "ExecuteTime": {
     "end_time": "2023-05-23T22:33:23.508780Z",
     "start_time": "2023-05-23T22:26:33.181601Z"
    }
   }
  },
  {
   "cell_type": "markdown",
   "source": [
    "## TEST CODE"
   ],
   "metadata": {
    "collapsed": false
   }
  },
  {
   "cell_type": "code",
   "execution_count": 27,
   "outputs": [],
   "source": [
    "def mae(y_true, y_pred):\n",
    "    return np.mean(abs(y_true.ravel() - y_pred.ravel()))"
   ],
   "metadata": {
    "collapsed": false,
    "ExecuteTime": {
     "end_time": "2023-05-23T22:34:16.956977Z",
     "start_time": "2023-05-23T22:34:16.949823Z"
    }
   }
  },
  {
   "cell_type": "code",
   "execution_count": 28,
   "outputs": [],
   "source": [
    "def model_forecast(model, series, window_size, batch_size):\n",
    "    ds = tf.data.Dataset.from_tensor_slices(series)\n",
    "    ds = ds.window(window_size, shift=1, drop_remainder=True)\n",
    "    ds = ds.flat_map(lambda w: w.batch(window_size))\n",
    "    ds = ds.batch(batch_size, drop_remainder=True).prefetch(1)\n",
    "    forecast = model.predict(ds)\n",
    "    return forecast"
   ],
   "metadata": {
    "collapsed": false,
    "ExecuteTime": {
     "end_time": "2023-05-23T22:34:19.552271Z",
     "start_time": "2023-05-23T22:34:19.545364Z"
    }
   }
  },
  {
   "cell_type": "code",
   "execution_count": 29,
   "outputs": [
    {
     "name": "stdout",
     "output_type": "stream",
     "text": [
      "2699/2699 [==============================] - 20s 7ms/step\n"
     ]
    }
   ],
   "source": [
    "rnn_forecast = model_forecast(model_1, data, N_PAST, BATCH_SIZE)"
   ],
   "metadata": {
    "collapsed": false,
    "ExecuteTime": {
     "end_time": "2023-05-23T22:34:42.406977Z",
     "start_time": "2023-05-23T22:34:21.902775Z"
    }
   }
  },
  {
   "cell_type": "code",
   "execution_count": 30,
   "outputs": [],
   "source": [
    "rnn_forecast = rnn_forecast[SPLIT_TIME - N_PAST:-1, 0, :]"
   ],
   "metadata": {
    "collapsed": false,
    "ExecuteTime": {
     "end_time": "2023-05-23T22:34:45.204016Z",
     "start_time": "2023-05-23T22:34:45.195929Z"
    }
   }
  },
  {
   "cell_type": "code",
   "execution_count": 31,
   "outputs": [],
   "source": [
    "x_valid = x_valid[:rnn_forecast.shape[0]]"
   ],
   "metadata": {
    "collapsed": false,
    "ExecuteTime": {
     "end_time": "2023-05-23T22:34:48.772794Z",
     "start_time": "2023-05-23T22:34:48.767094Z"
    }
   }
  },
  {
   "cell_type": "code",
   "execution_count": 32,
   "outputs": [
    {
     "data": {
      "text/plain": "0.023344217102081195"
     },
     "execution_count": 32,
     "metadata": {},
     "output_type": "execute_result"
    }
   ],
   "source": [
    "result = mae(x_valid, rnn_forecast)\n",
    "result"
   ],
   "metadata": {
    "collapsed": false,
    "ExecuteTime": {
     "end_time": "2023-05-23T22:34:49.844002Z",
     "start_time": "2023-05-23T22:34:49.832964Z"
    }
   }
  },
  {
   "cell_type": "markdown",
   "source": [
    "## Model 2"
   ],
   "metadata": {
    "collapsed": false
   }
  },
  {
   "cell_type": "code",
   "execution_count": 33,
   "outputs": [],
   "source": [
    "tf.random.set_seed(42)\n",
    "\n",
    "model_2 = tf.keras.Sequential([\n",
    "    tf.keras.layers.Conv1D(filters=128, kernel_size=5, padding=\"causal\", activation=\"relu\", input_shape=(N_PAST, N_FEATURES)),\n",
    "    tf.keras.layers.MaxPool1D(),\n",
    "    tf.keras.layers.Conv1D(filters=128, kernel_size=5, padding=\"causal\", activation=\"relu\"),\n",
    "    tf.keras.layers.MaxPool1D(),\n",
    "    tf.keras.layers.Flatten(),\n",
    "    tf.keras.layers.Dense(N_FUTURE*N_FEATURES),\n",
    "    tf.keras.layers.Reshape((N_FUTURE, N_FEATURES))\n",
    "])\n",
    "\n",
    "model_2.compile(loss = \"mae\",\n",
    "                optimizer = tf.keras.optimizers.Adam(),\n",
    "                metrics=[\"accuracy\"])"
   ],
   "metadata": {
    "collapsed": false,
    "ExecuteTime": {
     "end_time": "2023-05-23T22:35:29.645574Z",
     "start_time": "2023-05-23T22:35:29.604499Z"
    }
   }
  },
  {
   "cell_type": "code",
   "execution_count": 34,
   "outputs": [
    {
     "name": "stdout",
     "output_type": "stream",
     "text": [
      "Epoch 1/10\n",
      "1349/1349 [==============================] - 6s 5ms/step - loss: 0.0720 - accuracy: 0.6386 - val_loss: 0.0564 - val_accuracy: 0.6655\n",
      "Epoch 2/10\n",
      "1349/1349 [==============================] - 6s 5ms/step - loss: 0.0591 - accuracy: 0.7012 - val_loss: 0.0547 - val_accuracy: 0.6877\n",
      "Epoch 3/10\n",
      "1349/1349 [==============================] - 7s 5ms/step - loss: 0.0541 - accuracy: 0.7136 - val_loss: 0.0523 - val_accuracy: 0.6916\n",
      "Epoch 4/10\n",
      "1349/1349 [==============================] - 7s 5ms/step - loss: 0.0504 - accuracy: 0.7193 - val_loss: 0.0477 - val_accuracy: 0.7101\n",
      "Epoch 5/10\n",
      "1349/1349 [==============================] - 7s 6ms/step - loss: 0.0487 - accuracy: 0.7271 - val_loss: 0.0479 - val_accuracy: 0.7086\n",
      "Epoch 6/10\n",
      "1349/1349 [==============================] - 7s 5ms/step - loss: 0.0475 - accuracy: 0.7335 - val_loss: 0.0480 - val_accuracy: 0.6998\n",
      "Epoch 7/10\n",
      "1349/1349 [==============================] - 7s 5ms/step - loss: 0.0474 - accuracy: 0.7372 - val_loss: 0.0477 - val_accuracy: 0.7140\n",
      "Epoch 8/10\n",
      "1349/1349 [==============================] - 8s 6ms/step - loss: 0.0466 - accuracy: 0.7377 - val_loss: 0.0474 - val_accuracy: 0.7126\n",
      "Epoch 9/10\n",
      "1349/1349 [==============================] - 8s 6ms/step - loss: 0.0466 - accuracy: 0.7437 - val_loss: 0.0470 - val_accuracy: 0.7116\n",
      "Epoch 10/10\n",
      "1349/1349 [==============================] - 8s 6ms/step - loss: 0.0462 - accuracy: 0.7423 - val_loss: 0.0469 - val_accuracy: 0.7142\n"
     ]
    },
    {
     "data": {
      "text/plain": "<keras.callbacks.History at 0x2998dd190>"
     },
     "execution_count": 34,
     "metadata": {},
     "output_type": "execute_result"
    }
   ],
   "source": [
    "model_2.fit(train_set,\n",
    "            epochs=10,\n",
    "            validation_data=valid_set,\n",
    "            callbacks=[tf.keras.callbacks.EarlyStopping(monitor=\"val_loss\", patience=100, restore_best_weights=True)])"
   ],
   "metadata": {
    "collapsed": false,
    "ExecuteTime": {
     "end_time": "2023-05-23T22:36:50.245149Z",
     "start_time": "2023-05-23T22:35:38.662007Z"
    }
   }
  },
  {
   "cell_type": "markdown",
   "source": [
    "## Test Code 2"
   ],
   "metadata": {
    "collapsed": false
   }
  },
  {
   "cell_type": "code",
   "execution_count": 35,
   "outputs": [
    {
     "name": "stdout",
     "output_type": "stream",
     "text": [
      "2699/2699 [==============================] - 4s 1ms/step\n"
     ]
    }
   ],
   "source": [
    "rnn_forecast = model_forecast(model_2, data, N_PAST, BATCH_SIZE)"
   ],
   "metadata": {
    "collapsed": false,
    "ExecuteTime": {
     "end_time": "2023-05-23T22:37:50.528249Z",
     "start_time": "2023-05-23T22:37:46.339276Z"
    }
   }
  },
  {
   "cell_type": "code",
   "execution_count": 36,
   "outputs": [],
   "source": [
    "rnn_forecast = rnn_forecast[SPLIT_TIME - N_PAST:-1, 0, :]"
   ],
   "metadata": {
    "collapsed": false,
    "ExecuteTime": {
     "end_time": "2023-05-23T22:38:11.148269Z",
     "start_time": "2023-05-23T22:38:11.142644Z"
    }
   }
  },
  {
   "cell_type": "code",
   "execution_count": 37,
   "outputs": [],
   "source": [
    "x_valid = x_valid[:rnn_forecast.shape[0]]"
   ],
   "metadata": {
    "collapsed": false,
    "ExecuteTime": {
     "end_time": "2023-05-23T22:38:18.180577Z",
     "start_time": "2023-05-23T22:38:18.174629Z"
    }
   }
  },
  {
   "cell_type": "code",
   "execution_count": 38,
   "outputs": [
    {
     "data": {
      "text/plain": "0.03615179452921788"
     },
     "execution_count": 38,
     "metadata": {},
     "output_type": "execute_result"
    }
   ],
   "source": [
    "result = mae(x_valid, rnn_forecast)\n",
    "result"
   ],
   "metadata": {
    "collapsed": false,
    "ExecuteTime": {
     "end_time": "2023-05-23T22:38:26.378768Z",
     "start_time": "2023-05-23T22:38:26.366175Z"
    }
   }
  },
  {
   "cell_type": "code",
   "execution_count": 7,
   "outputs": [
    {
     "data": {
      "text/plain": "<tf.Tensor: shape=(4, 6), dtype=int32, numpy=\narray([[670, 372, 454, 275, 844,  55],\n       [120, 197, 583, 520, 337,  44],\n       [227, 158, 672, 268, 682, 808],\n       [359, 457, 650, 633, 895, 165]], dtype=int32)>"
     },
     "execution_count": 7,
     "metadata": {},
     "output_type": "execute_result"
    }
   ],
   "source": [
    "x = tf.random.uniform(shape=(4, 6), minval=1, maxval=1000, dtype=tf.int32)\n",
    "x"
   ],
   "metadata": {
    "collapsed": false,
    "ExecuteTime": {
     "end_time": "2023-05-31T22:20:21.951106Z",
     "start_time": "2023-05-31T22:20:21.943005Z"
    }
   }
  },
  {
   "cell_type": "code",
   "execution_count": 12,
   "outputs": [
    {
     "data": {
      "text/plain": "<tf.Tensor: shape=(4,), dtype=int32, numpy=array([445, 300, 469, 526], dtype=int32)>"
     },
     "execution_count": 12,
     "metadata": {},
     "output_type": "execute_result"
    }
   ],
   "source": [
    "tf.reduce_mean(x, axis=-1)"
   ],
   "metadata": {
    "collapsed": false,
    "ExecuteTime": {
     "end_time": "2023-05-31T22:44:17.099512Z",
     "start_time": "2023-05-31T22:44:17.093729Z"
    }
   }
  },
  {
   "cell_type": "code",
   "execution_count": 12,
   "outputs": [],
   "source": [],
   "metadata": {
    "collapsed": false,
    "ExecuteTime": {
     "end_time": "2023-05-31T22:44:29.090150Z",
     "start_time": "2023-05-31T22:44:29.082824Z"
    }
   }
  },
  {
   "cell_type": "code",
   "execution_count": null,
   "outputs": [],
   "source": [],
   "metadata": {
    "collapsed": false
   }
  }
 ],
 "metadata": {
  "kernelspec": {
   "display_name": "Python 3",
   "language": "python",
   "name": "python3"
  },
  "language_info": {
   "codemirror_mode": {
    "name": "ipython",
    "version": 2
   },
   "file_extension": ".py",
   "mimetype": "text/x-python",
   "name": "python",
   "nbconvert_exporter": "python",
   "pygments_lexer": "ipython2",
   "version": "2.7.6"
  }
 },
 "nbformat": 4,
 "nbformat_minor": 0
}
