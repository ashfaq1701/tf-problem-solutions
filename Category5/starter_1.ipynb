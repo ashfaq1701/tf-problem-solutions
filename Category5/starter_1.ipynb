{
 "cells": [
  {
   "cell_type": "code",
   "execution_count": 2,
   "metadata": {
    "collapsed": true,
    "ExecuteTime": {
     "end_time": "2023-05-23T00:49:08.292478Z",
     "start_time": "2023-05-23T00:49:06.179188Z"
    }
   },
   "outputs": [
    {
     "data": {
      "text/plain": "'2.10.0'"
     },
     "execution_count": 2,
     "metadata": {},
     "output_type": "execute_result"
    }
   ],
   "source": [
    "import numpy as np\n",
    "import pandas as pd\n",
    "import tensorflow as tf\n",
    "import tensorflow_datasets as tfds\n",
    "import urllib\n",
    "import zipfile\n",
    "\n",
    "tf.__version__"
   ]
  },
  {
   "cell_type": "code",
   "execution_count": 3,
   "outputs": [],
   "source": [
    "def download_and_extract_data():\n",
    "    url = 'https://storage.googleapis.com/download.tensorflow.org/data/certificate/household_power.zip'\n",
    "    urllib.request.urlretrieve(url, 'household_power.zip')\n",
    "    with zipfile.ZipFile('household_power.zip', 'r') as zip_ref:\n",
    "        zip_ref.extractall()"
   ],
   "metadata": {
    "collapsed": false,
    "ExecuteTime": {
     "end_time": "2023-05-23T00:49:20.170719Z",
     "start_time": "2023-05-23T00:49:20.166522Z"
    }
   }
  },
  {
   "cell_type": "code",
   "execution_count": 4,
   "outputs": [],
   "source": [
    "download_and_extract_data()"
   ],
   "metadata": {
    "collapsed": false,
    "ExecuteTime": {
     "end_time": "2023-05-23T00:49:32.101738Z",
     "start_time": "2023-05-23T00:49:30.813152Z"
    }
   }
  },
  {
   "cell_type": "code",
   "execution_count": 5,
   "outputs": [],
   "source": [
    "df = pd.read_csv('household_power_consumption.csv', sep=',',\n",
    "                     infer_datetime_format=True, index_col='datetime', header=0)"
   ],
   "metadata": {
    "collapsed": false,
    "ExecuteTime": {
     "end_time": "2023-05-23T00:50:59.869456Z",
     "start_time": "2023-05-23T00:50:59.809408Z"
    }
   }
  },
  {
   "cell_type": "code",
   "execution_count": 15,
   "outputs": [],
   "source": [
    "N_FEATURES = len(df.columns)"
   ],
   "metadata": {
    "collapsed": false,
    "ExecuteTime": {
     "end_time": "2023-05-23T00:54:01.971038Z",
     "start_time": "2023-05-23T00:54:01.963076Z"
    }
   }
  },
  {
   "cell_type": "code",
   "execution_count": 17,
   "outputs": [
    {
     "data": {
      "text/plain": "array([[  4.216,   0.418, 234.84 ,  18.4  ,   0.   ,   1.   ,  17.   ],\n       [  5.36 ,   0.436, 233.63 ,  23.   ,   0.   ,   1.   ,  16.   ],\n       [  5.374,   0.498, 233.29 ,  23.   ,   0.   ,   2.   ,  17.   ],\n       [  5.388,   0.502, 233.74 ,  23.   ,   0.   ,   1.   ,  17.   ],\n       [  3.666,   0.528, 235.68 ,  15.8  ,   0.   ,   1.   ,  17.   ],\n       [  3.52 ,   0.522, 235.02 ,  15.   ,   0.   ,   2.   ,  17.   ],\n       [  3.702,   0.52 , 235.09 ,  15.8  ,   0.   ,   1.   ,  17.   ],\n       [  3.7  ,   0.52 , 235.22 ,  15.8  ,   0.   ,   1.   ,  17.   ],\n       [  3.668,   0.51 , 233.99 ,  15.8  ,   0.   ,   1.   ,  17.   ],\n       [  3.662,   0.51 , 233.86 ,  15.8  ,   0.   ,   2.   ,  16.   ]])"
     },
     "execution_count": 17,
     "metadata": {},
     "output_type": "execute_result"
    }
   ],
   "source": [
    "data = df.values\n",
    "data[:10]"
   ],
   "metadata": {
    "collapsed": false,
    "ExecuteTime": {
     "end_time": "2023-05-23T00:54:11.651166Z",
     "start_time": "2023-05-23T00:54:11.645823Z"
    }
   }
  },
  {
   "cell_type": "code",
   "execution_count": 12,
   "outputs": [],
   "source": [
    "def normalize_series(data, min, max):\n",
    "    data = data - min\n",
    "    data = data / max\n",
    "    return data"
   ],
   "metadata": {
    "collapsed": false,
    "ExecuteTime": {
     "end_time": "2023-05-23T00:53:08.795934Z",
     "start_time": "2023-05-23T00:53:08.792655Z"
    }
   }
  },
  {
   "cell_type": "code",
   "execution_count": 18,
   "outputs": [],
   "source": [
    "data = normalize_series(data, data.min(axis=0), data.max(axis=0))"
   ],
   "metadata": {
    "collapsed": false,
    "ExecuteTime": {
     "end_time": "2023-05-23T00:54:18.449748Z",
     "start_time": "2023-05-23T00:54:18.445119Z"
    }
   }
  },
  {
   "cell_type": "code",
   "execution_count": 19,
   "outputs": [
    {
     "data": {
      "text/plain": "array([[0.43377912, 0.47826087, 0.04036551, 0.43564356, 0.        ,\n        0.01282051, 0.85      ],\n       [0.55716135, 0.49885584, 0.0355582 , 0.54950495, 0.        ,\n        0.01282051, 0.8       ],\n       [0.55867127, 0.56979405, 0.03420739, 0.54950495, 0.        ,\n        0.02564103, 0.85      ],\n       [0.56018119, 0.57437071, 0.03599523, 0.54950495, 0.        ,\n        0.01282051, 0.85      ],\n       [0.37446074, 0.60411899, 0.04370282, 0.37128713, 0.        ,\n        0.01282051, 0.85      ],\n       [0.35871441, 0.597254  , 0.04108065, 0.35148515, 0.        ,\n        0.02564103, 0.85      ],\n       [0.3783434 , 0.59496568, 0.04135876, 0.37128713, 0.        ,\n        0.01282051, 0.85      ],\n       [0.3781277 , 0.59496568, 0.04187525, 0.37128713, 0.        ,\n        0.01282051, 0.85      ],\n       [0.37467645, 0.58352403, 0.03698848, 0.37128713, 0.        ,\n        0.01282051, 0.85      ],\n       [0.37402934, 0.58352403, 0.03647199, 0.37128713, 0.        ,\n        0.02564103, 0.8       ]])"
     },
     "execution_count": 19,
     "metadata": {},
     "output_type": "execute_result"
    }
   ],
   "source": [
    "data[:10]"
   ],
   "metadata": {
    "collapsed": false,
    "ExecuteTime": {
     "end_time": "2023-05-23T00:54:25.193631Z",
     "start_time": "2023-05-23T00:54:25.190169Z"
    }
   }
  },
  {
   "cell_type": "code",
   "execution_count": 20,
   "outputs": [],
   "source": [
    "SPLIT_TIME = int(len(data) * 0.5)"
   ],
   "metadata": {
    "collapsed": false,
    "ExecuteTime": {
     "end_time": "2023-05-23T00:54:49.175847Z",
     "start_time": "2023-05-23T00:54:49.172231Z"
    }
   }
  },
  {
   "cell_type": "code",
   "execution_count": 21,
   "outputs": [],
   "source": [
    "x_train = data[:SPLIT_TIME]\n",
    "x_valid = data[SPLIT_TIME:]"
   ],
   "metadata": {
    "collapsed": false,
    "ExecuteTime": {
     "end_time": "2023-05-23T00:55:02.439487Z",
     "start_time": "2023-05-23T00:55:02.436380Z"
    }
   }
  },
  {
   "cell_type": "code",
   "execution_count": 22,
   "outputs": [
    {
     "data": {
      "text/plain": "((43200, 7), (43200, 7))"
     },
     "execution_count": 22,
     "metadata": {},
     "output_type": "execute_result"
    }
   ],
   "source": [
    "x_train.shape, x_valid.shape"
   ],
   "metadata": {
    "collapsed": false,
    "ExecuteTime": {
     "end_time": "2023-05-23T00:55:11.898555Z",
     "start_time": "2023-05-23T00:55:11.895894Z"
    }
   }
  },
  {
   "cell_type": "code",
   "execution_count": 24,
   "outputs": [],
   "source": [
    "BATCH_SIZE = 32\n",
    "N_PAST = 24\n",
    "N_FUTURE = 24\n",
    "SHIFT = 1"
   ],
   "metadata": {
    "collapsed": false,
    "ExecuteTime": {
     "end_time": "2023-05-23T00:56:00.621117Z",
     "start_time": "2023-05-23T00:56:00.601788Z"
    }
   }
  },
  {
   "cell_type": "code",
   "execution_count": 25,
   "outputs": [],
   "source": [
    "def windowed_dataset(series, batch_size, n_past=24, n_future=24, shift=1):\n",
    "    ds = tf.data.Dataset.from_tensor_slices(series)\n",
    "    ds = ds.window(size=n_past + n_future, shift=shift, drop_remainder=True)\n",
    "    ds = ds.flat_map(lambda w: w.batch(n_past + n_future))\n",
    "    ds = ds.map(lambda w: (w[:n_past], w[n_past:]))\n",
    "    return ds.batch(batch_size).prefetch(1)"
   ],
   "metadata": {
    "collapsed": false,
    "ExecuteTime": {
     "end_time": "2023-05-23T00:59:23.358752Z",
     "start_time": "2023-05-23T00:59:23.354334Z"
    }
   }
  },
  {
   "cell_type": "code",
   "execution_count": 26,
   "outputs": [],
   "source": [
    "train_set = windowed_dataset(series=x_train, batch_size=BATCH_SIZE,\n",
    "                                 n_past=N_PAST, n_future=N_FUTURE,\n",
    "                                 shift=SHIFT)"
   ],
   "metadata": {
    "collapsed": false,
    "ExecuteTime": {
     "end_time": "2023-05-23T01:02:52.891139Z",
     "start_time": "2023-05-23T01:02:52.850739Z"
    }
   }
  },
  {
   "cell_type": "code",
   "execution_count": 27,
   "outputs": [],
   "source": [
    "valid_set = windowed_dataset(series=x_valid, batch_size=BATCH_SIZE,\n",
    "                                 n_past=N_PAST, n_future=N_FUTURE,\n",
    "                                 shift=SHIFT)"
   ],
   "metadata": {
    "collapsed": false,
    "ExecuteTime": {
     "end_time": "2023-05-23T01:03:00.966186Z",
     "start_time": "2023-05-23T01:03:00.948041Z"
    }
   }
  },
  {
   "cell_type": "code",
   "execution_count": 28,
   "outputs": [],
   "source": [
    "tf.random.set_seed(42)\n",
    "\n",
    "inputs = tf.keras.layers.Input(shape=(N_PAST, N_FEATURES))\n",
    "x = tf.keras.layers.LSTM(128, activation=\"relu\", return_sequences=True)(inputs)\n",
    "x = tf.keras.layers.LSTM(128, activation=\"relu\")(x)\n",
    "x = tf.keras.layers.Flatten()(x)\n",
    "x = tf.keras.layers.Dense(N_FUTURE * N_FEATURES)(x)\n",
    "outputs = tf.keras.layers.Reshape((N_FUTURE, N_FEATURES))(x)\n",
    "model_1 = tf.keras.Model(inputs = inputs, outputs = outputs, name = \"model_1\")"
   ],
   "metadata": {
    "collapsed": false,
    "ExecuteTime": {
     "end_time": "2023-05-23T01:04:28.481168Z",
     "start_time": "2023-05-23T01:04:28.397537Z"
    }
   }
  },
  {
   "cell_type": "code",
   "execution_count": 29,
   "outputs": [],
   "source": [
    "model_1.compile(loss = \"mae\",\n",
    "                optimizer = tf.keras.optimizers.Adam(),\n",
    "                metrics=[\"accuracy\"])"
   ],
   "metadata": {
    "collapsed": false,
    "ExecuteTime": {
     "end_time": "2023-05-23T01:04:38.312185Z",
     "start_time": "2023-05-23T01:04:38.307358Z"
    }
   }
  },
  {
   "cell_type": "code",
   "execution_count": 30,
   "outputs": [
    {
     "name": "stdout",
     "output_type": "stream",
     "text": [
      "Epoch 1/10\n"
     ]
    },
    {
     "name": "stderr",
     "output_type": "stream",
     "text": [
      "2023-05-23 02:05:02.371538: W tensorflow/core/platform/profile_utils/cpu_utils.cc:128] Failed to get CPU frequency: 0 Hz\n"
     ]
    },
    {
     "name": "stdout",
     "output_type": "stream",
     "text": [
      "1349/1349 [==============================] - 38s 28ms/step - loss: 0.0672 - accuracy: 0.6345 - val_loss: 0.0545 - val_accuracy: 0.6787\n",
      "Epoch 2/10\n",
      "1349/1349 [==============================] - 38s 28ms/step - loss: 0.0531 - accuracy: 0.7027 - val_loss: 0.0478 - val_accuracy: 0.6950\n",
      "Epoch 3/10\n",
      "1349/1349 [==============================] - 38s 28ms/step - loss: 0.0490 - accuracy: 0.7132 - val_loss: 0.0468 - val_accuracy: 0.6954\n",
      "Epoch 4/10\n",
      "1349/1349 [==============================] - 38s 28ms/step - loss: 0.0476 - accuracy: 0.7157 - val_loss: 0.0468 - val_accuracy: 0.7028\n",
      "Epoch 5/10\n",
      "1349/1349 [==============================] - 38s 28ms/step - loss: 0.0465 - accuracy: 0.7184 - val_loss: 0.0456 - val_accuracy: 0.7034\n",
      "Epoch 6/10\n",
      "1349/1349 [==============================] - 40s 29ms/step - loss: 0.0452 - accuracy: 0.7233 - val_loss: 0.0448 - val_accuracy: 0.7124\n",
      "Epoch 7/10\n",
      "1349/1349 [==============================] - 39s 29ms/step - loss: 0.0442 - accuracy: 0.7369 - val_loss: 0.0439 - val_accuracy: 0.7263\n",
      "Epoch 8/10\n",
      "1349/1349 [==============================] - 41s 30ms/step - loss: 0.0436 - accuracy: 0.7424 - val_loss: 0.0432 - val_accuracy: 0.7283\n",
      "Epoch 9/10\n",
      "1349/1349 [==============================] - 40s 30ms/step - loss: 0.0433 - accuracy: 0.7453 - val_loss: 0.0430 - val_accuracy: 0.7302\n",
      "Epoch 10/10\n",
      "1349/1349 [==============================] - 41s 30ms/step - loss: 0.0427 - accuracy: 0.7465 - val_loss: 0.0430 - val_accuracy: 0.7280\n"
     ]
    },
    {
     "data": {
      "text/plain": "<keras.callbacks.History at 0x281dc1eb0>"
     },
     "execution_count": 30,
     "metadata": {},
     "output_type": "execute_result"
    }
   ],
   "source": [
    "model_1.fit(train_set,\n",
    "            epochs=10,\n",
    "            validation_data=valid_set,\n",
    "            callbacks=[tf.keras.callbacks.EarlyStopping(monitor=\"val_loss\", patience=100, restore_best_weights=True)])"
   ],
   "metadata": {
    "collapsed": false,
    "ExecuteTime": {
     "end_time": "2023-05-23T01:11:32.745380Z",
     "start_time": "2023-05-23T01:05:02.364119Z"
    }
   }
  },
  {
   "cell_type": "markdown",
   "source": [
    "## TEST CODE"
   ],
   "metadata": {
    "collapsed": false
   }
  },
  {
   "cell_type": "code",
   "execution_count": 31,
   "outputs": [],
   "source": [
    "def mae(y_true, y_pred):\n",
    "    return np.mean(abs(y_true.ravel() - y_pred.ravel()))"
   ],
   "metadata": {
    "collapsed": false,
    "ExecuteTime": {
     "end_time": "2023-05-23T01:11:44.884438Z",
     "start_time": "2023-05-23T01:11:44.879125Z"
    }
   }
  },
  {
   "cell_type": "code",
   "execution_count": 32,
   "outputs": [],
   "source": [
    "def model_forecast(model, series, window_size, batch_size):\n",
    "    ds = tf.data.Dataset.from_tensor_slices(series)\n",
    "    ds = ds.window(window_size, shift=1, drop_remainder=True)\n",
    "    ds = ds.flat_map(lambda w: w.batch(window_size))\n",
    "    ds = ds.batch(batch_size, drop_remainder=True).prefetch(1)\n",
    "    forecast = model.predict(ds)\n",
    "    return forecast"
   ],
   "metadata": {
    "collapsed": false,
    "ExecuteTime": {
     "end_time": "2023-05-23T01:12:57.992784Z",
     "start_time": "2023-05-23T01:12:57.987687Z"
    }
   }
  },
  {
   "cell_type": "code",
   "execution_count": 33,
   "outputs": [
    {
     "name": "stdout",
     "output_type": "stream",
     "text": [
      "2699/2699 [==============================] - 18s 7ms/step\n"
     ]
    }
   ],
   "source": [
    "rnn_forecast = model_forecast(model_1, data, N_PAST, BATCH_SIZE)"
   ],
   "metadata": {
    "collapsed": false,
    "ExecuteTime": {
     "end_time": "2023-05-23T01:14:43.599072Z",
     "start_time": "2023-05-23T01:14:25.064432Z"
    }
   }
  },
  {
   "cell_type": "code",
   "execution_count": 34,
   "outputs": [],
   "source": [
    "rnn_forecast = rnn_forecast[SPLIT_TIME - N_PAST:-1, 0, :]"
   ],
   "metadata": {
    "collapsed": false,
    "ExecuteTime": {
     "end_time": "2023-05-23T01:15:13.479707Z",
     "start_time": "2023-05-23T01:15:13.475191Z"
    }
   }
  },
  {
   "cell_type": "code",
   "execution_count": 35,
   "outputs": [],
   "source": [
    "x_valid = x_valid[:rnn_forecast.shape[0]]"
   ],
   "metadata": {
    "collapsed": false,
    "ExecuteTime": {
     "end_time": "2023-05-23T01:15:33.917045Z",
     "start_time": "2023-05-23T01:15:33.893747Z"
    }
   }
  },
  {
   "cell_type": "code",
   "execution_count": 37,
   "outputs": [
    {
     "data": {
      "text/plain": "0.020847305139440178"
     },
     "execution_count": 37,
     "metadata": {},
     "output_type": "execute_result"
    }
   ],
   "source": [
    "result = mae(x_valid, rnn_forecast)\n",
    "result"
   ],
   "metadata": {
    "collapsed": false,
    "ExecuteTime": {
     "end_time": "2023-05-23T01:15:57.256931Z",
     "start_time": "2023-05-23T01:15:57.250584Z"
    }
   }
  },
  {
   "cell_type": "code",
   "execution_count": null,
   "outputs": [],
   "source": [],
   "metadata": {
    "collapsed": false
   }
  }
 ],
 "metadata": {
  "kernelspec": {
   "display_name": "Python 3",
   "language": "python",
   "name": "python3"
  },
  "language_info": {
   "codemirror_mode": {
    "name": "ipython",
    "version": 2
   },
   "file_extension": ".py",
   "mimetype": "text/x-python",
   "name": "python",
   "nbconvert_exporter": "python",
   "pygments_lexer": "ipython2",
   "version": "2.7.6"
  }
 },
 "nbformat": 4,
 "nbformat_minor": 0
}
