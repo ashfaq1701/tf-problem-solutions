{
 "cells": [
  {
   "cell_type": "code",
   "execution_count": 2,
   "metadata": {
    "collapsed": true,
    "ExecuteTime": {
     "end_time": "2023-05-23T01:18:44.126692Z",
     "start_time": "2023-05-23T01:18:41.891250Z"
    }
   },
   "outputs": [
    {
     "data": {
      "text/plain": "'2.10.0'"
     },
     "execution_count": 2,
     "metadata": {},
     "output_type": "execute_result"
    }
   ],
   "source": [
    "import numpy as np\n",
    "import pandas as pd\n",
    "import tensorflow as tf\n",
    "import tensorflow_datasets as tfds\n",
    "import urllib\n",
    "import zipfile\n",
    "\n",
    "tf.__version__"
   ]
  },
  {
   "cell_type": "code",
   "execution_count": 3,
   "outputs": [],
   "source": [
    "def download_and_extract_data():\n",
    "    url = 'https://storage.googleapis.com/download.tensorflow.org/data/certificate/household_power.zip'\n",
    "    urllib.request.urlretrieve(url, 'household_power.zip')\n",
    "    with zipfile.ZipFile('household_power.zip', 'r') as zip_ref:\n",
    "        zip_ref.extractall()"
   ],
   "metadata": {
    "collapsed": false,
    "ExecuteTime": {
     "end_time": "2023-05-23T01:18:44.815876Z",
     "start_time": "2023-05-23T01:18:44.798294Z"
    }
   }
  },
  {
   "cell_type": "code",
   "execution_count": 4,
   "outputs": [],
   "source": [
    "download_and_extract_data()"
   ],
   "metadata": {
    "collapsed": false,
    "ExecuteTime": {
     "end_time": "2023-05-23T01:18:47.286886Z",
     "start_time": "2023-05-23T01:18:45.959184Z"
    }
   }
  },
  {
   "cell_type": "code",
   "execution_count": 5,
   "outputs": [],
   "source": [
    "df = pd.read_csv('household_power_consumption.csv', sep=',',\n",
    "                     infer_datetime_format=True, index_col='datetime', header=0)"
   ],
   "metadata": {
    "collapsed": false,
    "ExecuteTime": {
     "end_time": "2023-05-23T01:18:48.159176Z",
     "start_time": "2023-05-23T01:18:48.094098Z"
    }
   }
  },
  {
   "cell_type": "code",
   "execution_count": 6,
   "outputs": [],
   "source": [
    "N_FEATURES = len(df.columns)"
   ],
   "metadata": {
    "collapsed": false,
    "ExecuteTime": {
     "end_time": "2023-05-23T01:18:49.407789Z",
     "start_time": "2023-05-23T01:18:49.401303Z"
    }
   }
  },
  {
   "cell_type": "code",
   "execution_count": 7,
   "outputs": [
    {
     "data": {
      "text/plain": "array([[  4.216,   0.418, 234.84 ,  18.4  ,   0.   ,   1.   ,  17.   ],\n       [  5.36 ,   0.436, 233.63 ,  23.   ,   0.   ,   1.   ,  16.   ],\n       [  5.374,   0.498, 233.29 ,  23.   ,   0.   ,   2.   ,  17.   ],\n       [  5.388,   0.502, 233.74 ,  23.   ,   0.   ,   1.   ,  17.   ],\n       [  3.666,   0.528, 235.68 ,  15.8  ,   0.   ,   1.   ,  17.   ],\n       [  3.52 ,   0.522, 235.02 ,  15.   ,   0.   ,   2.   ,  17.   ],\n       [  3.702,   0.52 , 235.09 ,  15.8  ,   0.   ,   1.   ,  17.   ],\n       [  3.7  ,   0.52 , 235.22 ,  15.8  ,   0.   ,   1.   ,  17.   ],\n       [  3.668,   0.51 , 233.99 ,  15.8  ,   0.   ,   1.   ,  17.   ],\n       [  3.662,   0.51 , 233.86 ,  15.8  ,   0.   ,   2.   ,  16.   ]])"
     },
     "execution_count": 7,
     "metadata": {},
     "output_type": "execute_result"
    }
   ],
   "source": [
    "data = df.values\n",
    "data[:10]"
   ],
   "metadata": {
    "collapsed": false,
    "ExecuteTime": {
     "end_time": "2023-05-23T01:18:50.346063Z",
     "start_time": "2023-05-23T01:18:50.340163Z"
    }
   }
  },
  {
   "cell_type": "code",
   "execution_count": 8,
   "outputs": [],
   "source": [
    "def normalize_series(data, min, max):\n",
    "    data = data - min\n",
    "    data = data / max\n",
    "    return data"
   ],
   "metadata": {
    "collapsed": false,
    "ExecuteTime": {
     "end_time": "2023-05-23T01:18:51.179860Z",
     "start_time": "2023-05-23T01:18:51.173307Z"
    }
   }
  },
  {
   "cell_type": "code",
   "execution_count": 9,
   "outputs": [],
   "source": [
    "data = normalize_series(data, data.min(axis=0), data.max(axis=0))"
   ],
   "metadata": {
    "collapsed": false,
    "ExecuteTime": {
     "end_time": "2023-05-23T01:18:51.983656Z",
     "start_time": "2023-05-23T01:18:51.975235Z"
    }
   }
  },
  {
   "cell_type": "code",
   "execution_count": 10,
   "outputs": [
    {
     "data": {
      "text/plain": "array([[0.43377912, 0.47826087, 0.04036551, 0.43564356, 0.        ,\n        0.01282051, 0.85      ],\n       [0.55716135, 0.49885584, 0.0355582 , 0.54950495, 0.        ,\n        0.01282051, 0.8       ],\n       [0.55867127, 0.56979405, 0.03420739, 0.54950495, 0.        ,\n        0.02564103, 0.85      ],\n       [0.56018119, 0.57437071, 0.03599523, 0.54950495, 0.        ,\n        0.01282051, 0.85      ],\n       [0.37446074, 0.60411899, 0.04370282, 0.37128713, 0.        ,\n        0.01282051, 0.85      ],\n       [0.35871441, 0.597254  , 0.04108065, 0.35148515, 0.        ,\n        0.02564103, 0.85      ],\n       [0.3783434 , 0.59496568, 0.04135876, 0.37128713, 0.        ,\n        0.01282051, 0.85      ],\n       [0.3781277 , 0.59496568, 0.04187525, 0.37128713, 0.        ,\n        0.01282051, 0.85      ],\n       [0.37467645, 0.58352403, 0.03698848, 0.37128713, 0.        ,\n        0.01282051, 0.85      ],\n       [0.37402934, 0.58352403, 0.03647199, 0.37128713, 0.        ,\n        0.02564103, 0.8       ]])"
     },
     "execution_count": 10,
     "metadata": {},
     "output_type": "execute_result"
    }
   ],
   "source": [
    "data[:10]"
   ],
   "metadata": {
    "collapsed": false,
    "ExecuteTime": {
     "end_time": "2023-05-23T01:18:52.699616Z",
     "start_time": "2023-05-23T01:18:52.692263Z"
    }
   }
  },
  {
   "cell_type": "code",
   "execution_count": 11,
   "outputs": [],
   "source": [
    "SPLIT_TIME = int(len(data) * 0.5)"
   ],
   "metadata": {
    "collapsed": false,
    "ExecuteTime": {
     "end_time": "2023-05-23T01:18:53.435110Z",
     "start_time": "2023-05-23T01:18:53.425942Z"
    }
   }
  },
  {
   "cell_type": "code",
   "execution_count": 12,
   "outputs": [],
   "source": [
    "x_train = data[:SPLIT_TIME]\n",
    "x_valid = data[SPLIT_TIME:]"
   ],
   "metadata": {
    "collapsed": false,
    "ExecuteTime": {
     "end_time": "2023-05-23T01:18:54.121666Z",
     "start_time": "2023-05-23T01:18:54.112769Z"
    }
   }
  },
  {
   "cell_type": "code",
   "execution_count": 13,
   "outputs": [
    {
     "data": {
      "text/plain": "((43200, 7), (43200, 7))"
     },
     "execution_count": 13,
     "metadata": {},
     "output_type": "execute_result"
    }
   ],
   "source": [
    "x_train.shape, x_valid.shape"
   ],
   "metadata": {
    "collapsed": false,
    "ExecuteTime": {
     "end_time": "2023-05-23T01:18:54.899439Z",
     "start_time": "2023-05-23T01:18:54.891753Z"
    }
   }
  },
  {
   "cell_type": "code",
   "execution_count": 14,
   "outputs": [],
   "source": [
    "BATCH_SIZE = 32\n",
    "N_PAST = 24\n",
    "N_FUTURE = 24\n",
    "SHIFT = 1"
   ],
   "metadata": {
    "collapsed": false,
    "ExecuteTime": {
     "end_time": "2023-05-23T01:18:55.625082Z",
     "start_time": "2023-05-23T01:18:55.614588Z"
    }
   }
  },
  {
   "cell_type": "code",
   "execution_count": 15,
   "outputs": [],
   "source": [
    "def windowed_dataset(series, batch_size, n_past=24, n_future=24, shift=1):\n",
    "    ds = tf.data.Dataset.from_tensor_slices(series)\n",
    "    ds = ds.window(size=n_past + n_future, shift=shift, drop_remainder=True)\n",
    "    ds = ds.flat_map(lambda w: w.batch(n_past + n_future))\n",
    "    ds = ds.map(lambda w: (w[:n_past], w[n_past:]))\n",
    "    return ds.batch(batch_size).prefetch(1)"
   ],
   "metadata": {
    "collapsed": false,
    "ExecuteTime": {
     "end_time": "2023-05-23T01:18:56.412546Z",
     "start_time": "2023-05-23T01:18:56.404323Z"
    }
   }
  },
  {
   "cell_type": "code",
   "execution_count": 16,
   "outputs": [],
   "source": [
    "train_set = windowed_dataset(series=x_train, batch_size=BATCH_SIZE,\n",
    "                                 n_past=N_PAST, n_future=N_FUTURE,\n",
    "                                 shift=SHIFT)"
   ],
   "metadata": {
    "collapsed": false,
    "ExecuteTime": {
     "end_time": "2023-05-23T01:18:57.172447Z",
     "start_time": "2023-05-23T01:18:57.125718Z"
    }
   }
  },
  {
   "cell_type": "code",
   "execution_count": 17,
   "outputs": [],
   "source": [
    "valid_set = windowed_dataset(series=x_valid, batch_size=BATCH_SIZE,\n",
    "                                 n_past=N_PAST, n_future=N_FUTURE,\n",
    "                                 shift=SHIFT)"
   ],
   "metadata": {
    "collapsed": false,
    "ExecuteTime": {
     "end_time": "2023-05-23T01:18:57.906324Z",
     "start_time": "2023-05-23T01:18:57.885047Z"
    }
   }
  },
  {
   "cell_type": "code",
   "execution_count": 38,
   "outputs": [],
   "source": [
    "tf.random.set_seed(42)\n",
    "\n",
    "inputs = tf.keras.layers.Input(shape=(N_PAST, N_FEATURES))\n",
    "x = tf.keras.layers.Conv1D(filters=128, kernel_size=5, padding=\"causal\", activation=\"relu\")(inputs)\n",
    "x = tf.keras.layers.MaxPool1D()(x)\n",
    "x = tf.keras.layers.Conv1D(filters=128, kernel_size=5, padding=\"causal\", activation=\"relu\")(x)\n",
    "x = tf.keras.layers.MaxPool1D()(x)\n",
    "x = tf.keras.layers.Flatten()(x)\n",
    "x = tf.keras.layers.Dense(N_FUTURE * N_FEATURES)(x)\n",
    "outputs = tf.keras.layers.Reshape((N_FUTURE, N_FEATURES))(x)\n",
    "model_1 = tf.keras.Model(inputs = inputs, outputs = outputs, name = \"model_1\")"
   ],
   "metadata": {
    "collapsed": false,
    "ExecuteTime": {
     "end_time": "2023-05-23T02:05:51.331700Z",
     "start_time": "2023-05-23T02:05:51.288336Z"
    }
   }
  },
  {
   "cell_type": "code",
   "execution_count": 39,
   "outputs": [],
   "source": [
    "model_1.compile(loss = \"mae\",\n",
    "                optimizer = tf.keras.optimizers.Adam(),\n",
    "                metrics=[\"accuracy\"])"
   ],
   "metadata": {
    "collapsed": false,
    "ExecuteTime": {
     "end_time": "2023-05-23T02:05:53.471605Z",
     "start_time": "2023-05-23T02:05:53.466117Z"
    }
   }
  },
  {
   "cell_type": "code",
   "execution_count": 40,
   "outputs": [
    {
     "name": "stdout",
     "output_type": "stream",
     "text": [
      "Epoch 1/10\n",
      "1349/1349 [==============================] - 6s 4ms/step - loss: 0.0705 - accuracy: 0.6544 - val_loss: 0.0587 - val_accuracy: 0.6572\n",
      "Epoch 2/10\n",
      "1349/1349 [==============================] - 6s 4ms/step - loss: 0.0568 - accuracy: 0.7011 - val_loss: 0.0510 - val_accuracy: 0.6831\n",
      "Epoch 3/10\n",
      "1349/1349 [==============================] - 6s 5ms/step - loss: 0.0532 - accuracy: 0.7124 - val_loss: 0.0556 - val_accuracy: 0.7001\n",
      "Epoch 4/10\n",
      "1349/1349 [==============================] - 6s 5ms/step - loss: 0.0505 - accuracy: 0.7232 - val_loss: 0.0484 - val_accuracy: 0.7049\n",
      "Epoch 5/10\n",
      "1349/1349 [==============================] - 6s 5ms/step - loss: 0.0492 - accuracy: 0.7291 - val_loss: 0.0478 - val_accuracy: 0.7063\n",
      "Epoch 6/10\n",
      "1349/1349 [==============================] - 7s 5ms/step - loss: 0.0490 - accuracy: 0.7357 - val_loss: 0.0492 - val_accuracy: 0.7064\n",
      "Epoch 7/10\n",
      "1349/1349 [==============================] - 7s 5ms/step - loss: 0.0481 - accuracy: 0.7369 - val_loss: 0.0475 - val_accuracy: 0.7156\n",
      "Epoch 8/10\n",
      "1349/1349 [==============================] - 7s 5ms/step - loss: 0.0485 - accuracy: 0.7365 - val_loss: 0.0471 - val_accuracy: 0.7212\n",
      "Epoch 9/10\n",
      "1349/1349 [==============================] - 7s 5ms/step - loss: 0.0470 - accuracy: 0.7440 - val_loss: 0.0482 - val_accuracy: 0.7148\n",
      "Epoch 10/10\n",
      "1349/1349 [==============================] - 7s 5ms/step - loss: 0.0462 - accuracy: 0.7449 - val_loss: 0.0466 - val_accuracy: 0.7137\n"
     ]
    },
    {
     "data": {
      "text/plain": "<keras.callbacks.History at 0x2a579f3d0>"
     },
     "execution_count": 40,
     "metadata": {},
     "output_type": "execute_result"
    }
   ],
   "source": [
    "model_1.fit(train_set,\n",
    "            epochs=10,\n",
    "            validation_data=valid_set,\n",
    "            callbacks=[tf.keras.callbacks.EarlyStopping(monitor=\"val_loss\", patience=100, restore_best_weights=True)])"
   ],
   "metadata": {
    "collapsed": false,
    "ExecuteTime": {
     "end_time": "2023-05-23T02:07:00.057750Z",
     "start_time": "2023-05-23T02:05:56.594011Z"
    }
   }
  },
  {
   "cell_type": "markdown",
   "source": [
    "## TEST CODE"
   ],
   "metadata": {
    "collapsed": false
   }
  },
  {
   "cell_type": "code",
   "execution_count": 41,
   "outputs": [],
   "source": [
    "def mae(y_true, y_pred):\n",
    "    return np.mean(abs(y_true.ravel() - y_pred.ravel()))"
   ],
   "metadata": {
    "collapsed": false,
    "ExecuteTime": {
     "end_time": "2023-05-23T02:07:08.351499Z",
     "start_time": "2023-05-23T02:07:08.343074Z"
    }
   }
  },
  {
   "cell_type": "code",
   "execution_count": 42,
   "outputs": [],
   "source": [
    "def model_forecast(model, series, window_size, batch_size):\n",
    "    ds = tf.data.Dataset.from_tensor_slices(series)\n",
    "    ds = ds.window(window_size, shift=1, drop_remainder=True)\n",
    "    ds = ds.flat_map(lambda w: w.batch(window_size))\n",
    "    ds = ds.batch(batch_size, drop_remainder=True).prefetch(1)\n",
    "    forecast = model.predict(ds)\n",
    "    return forecast"
   ],
   "metadata": {
    "collapsed": false,
    "ExecuteTime": {
     "end_time": "2023-05-23T02:07:09.320663Z",
     "start_time": "2023-05-23T02:07:09.313262Z"
    }
   }
  },
  {
   "cell_type": "code",
   "execution_count": 43,
   "outputs": [
    {
     "name": "stdout",
     "output_type": "stream",
     "text": [
      "2699/2699 [==============================] - 4s 1ms/step\n"
     ]
    }
   ],
   "source": [
    "rnn_forecast = model_forecast(model_1, data, N_PAST, BATCH_SIZE)"
   ],
   "metadata": {
    "collapsed": false,
    "ExecuteTime": {
     "end_time": "2023-05-23T02:07:13.997637Z",
     "start_time": "2023-05-23T02:07:10.159369Z"
    }
   }
  },
  {
   "cell_type": "code",
   "execution_count": 44,
   "outputs": [],
   "source": [
    "rnn_forecast = rnn_forecast[SPLIT_TIME - N_PAST:-1, 0, :]"
   ],
   "metadata": {
    "collapsed": false,
    "ExecuteTime": {
     "end_time": "2023-05-23T02:07:16.488823Z",
     "start_time": "2023-05-23T02:07:16.480631Z"
    }
   }
  },
  {
   "cell_type": "code",
   "execution_count": 45,
   "outputs": [],
   "source": [
    "x_valid = x_valid[:rnn_forecast.shape[0]]"
   ],
   "metadata": {
    "collapsed": false,
    "ExecuteTime": {
     "end_time": "2023-05-23T02:07:17.312115Z",
     "start_time": "2023-05-23T02:07:17.303705Z"
    }
   }
  },
  {
   "cell_type": "code",
   "execution_count": 46,
   "outputs": [
    {
     "data": {
      "text/plain": "0.034627849466299356"
     },
     "execution_count": 46,
     "metadata": {},
     "output_type": "execute_result"
    }
   ],
   "source": [
    "result = mae(x_valid, rnn_forecast)\n",
    "result"
   ],
   "metadata": {
    "collapsed": false,
    "ExecuteTime": {
     "end_time": "2023-05-23T02:07:17.977366Z",
     "start_time": "2023-05-23T02:07:17.965346Z"
    }
   }
  },
  {
   "cell_type": "markdown",
   "source": [
    "## Sequential Model"
   ],
   "metadata": {
    "collapsed": false
   }
  },
  {
   "cell_type": "code",
   "execution_count": 60,
   "outputs": [],
   "source": [
    "tf.random.set_seed(42)\n",
    "\n",
    "model_2 = tf.keras.Sequential([\n",
    "    tf.keras.layers.Conv1D(filters=128, kernel_size=5, padding=\"causal\", activation=\"relu\", input_shape=(N_PAST, N_FEATURES)),\n",
    "    tf.keras.layers.MaxPool1D(),\n",
    "    tf.keras.layers.Conv1D(filters=128, kernel_size=5, padding=\"causal\", activation=\"relu\"),\n",
    "    tf.keras.layers.MaxPool1D(),\n",
    "    tf.keras.layers.Flatten(),\n",
    "    tf.keras.layers.Dense(N_FUTURE*N_FEATURES),\n",
    "    tf.keras.layers.Reshape((N_FUTURE, N_FEATURES))\n",
    "])\n",
    "\n",
    "model_2.compile(loss = \"mae\",\n",
    "                optimizer = tf.keras.optimizers.Adam(),\n",
    "                metrics=[\"accuracy\"])"
   ],
   "metadata": {
    "collapsed": false,
    "ExecuteTime": {
     "end_time": "2023-05-23T02:18:19.186153Z",
     "start_time": "2023-05-23T02:18:19.147145Z"
    }
   }
  },
  {
   "cell_type": "code",
   "execution_count": 61,
   "outputs": [
    {
     "name": "stdout",
     "output_type": "stream",
     "text": [
      "Epoch 1/10\n",
      "1349/1349 [==============================] - 7s 5ms/step - loss: 0.0703 - accuracy: 0.6583 - val_loss: 0.0592 - val_accuracy: 0.6667\n",
      "Epoch 2/10\n",
      "1349/1349 [==============================] - 7s 5ms/step - loss: 0.0586 - accuracy: 0.6963 - val_loss: 0.0546 - val_accuracy: 0.6786\n",
      "Epoch 3/10\n",
      "1349/1349 [==============================] - 7s 5ms/step - loss: 0.0533 - accuracy: 0.7101 - val_loss: 0.0505 - val_accuracy: 0.6967\n",
      "Epoch 4/10\n",
      "1349/1349 [==============================] - 7s 5ms/step - loss: 0.0508 - accuracy: 0.7176 - val_loss: 0.0494 - val_accuracy: 0.7053\n",
      "Epoch 5/10\n",
      "1349/1349 [==============================] - 7s 5ms/step - loss: 0.0498 - accuracy: 0.7165 - val_loss: 0.0484 - val_accuracy: 0.7071\n",
      "Epoch 6/10\n",
      "1349/1349 [==============================] - 7s 5ms/step - loss: 0.0489 - accuracy: 0.7217 - val_loss: 0.0500 - val_accuracy: 0.7015\n",
      "Epoch 7/10\n",
      "1349/1349 [==============================] - 7s 5ms/step - loss: 0.0478 - accuracy: 0.7256 - val_loss: 0.0493 - val_accuracy: 0.7090\n",
      "Epoch 8/10\n",
      "1349/1349 [==============================] - 7s 5ms/step - loss: 0.0473 - accuracy: 0.7271 - val_loss: 0.0480 - val_accuracy: 0.7025\n",
      "Epoch 9/10\n",
      "1349/1349 [==============================] - 7s 5ms/step - loss: 0.0472 - accuracy: 0.7294 - val_loss: 0.0470 - val_accuracy: 0.7030\n",
      "Epoch 10/10\n",
      "1349/1349 [==============================] - 7s 5ms/step - loss: 0.0462 - accuracy: 0.7355 - val_loss: 0.0465 - val_accuracy: 0.7072\n"
     ]
    },
    {
     "data": {
      "text/plain": "<keras.callbacks.History at 0x2a53112e0>"
     },
     "execution_count": 61,
     "metadata": {},
     "output_type": "execute_result"
    }
   ],
   "source": [
    "model_2.fit(train_set,\n",
    "            epochs=10,\n",
    "            validation_data=valid_set,\n",
    "            callbacks=[tf.keras.callbacks.EarlyStopping(monitor=\"val_loss\", patience=100, restore_best_weights=True)])"
   ],
   "metadata": {
    "collapsed": false,
    "ExecuteTime": {
     "end_time": "2023-05-23T02:19:30.254225Z",
     "start_time": "2023-05-23T02:18:20.872316Z"
    }
   }
  },
  {
   "cell_type": "markdown",
   "source": [
    "## TEST CODE - 2"
   ],
   "metadata": {
    "collapsed": false
   }
  },
  {
   "cell_type": "code",
   "execution_count": 62,
   "outputs": [
    {
     "name": "stdout",
     "output_type": "stream",
     "text": [
      "2699/2699 [==============================] - 4s 1ms/step\n"
     ]
    }
   ],
   "source": [
    "rnn_forecast = model_forecast(model_2, data, N_PAST, BATCH_SIZE)"
   ],
   "metadata": {
    "collapsed": false,
    "ExecuteTime": {
     "end_time": "2023-05-23T02:19:42.936351Z",
     "start_time": "2023-05-23T02:19:39.024829Z"
    }
   }
  },
  {
   "cell_type": "code",
   "execution_count": 63,
   "outputs": [],
   "source": [
    "rnn_forecast = rnn_forecast[SPLIT_TIME - N_PAST:-1, 0, :]"
   ],
   "metadata": {
    "collapsed": false,
    "ExecuteTime": {
     "end_time": "2023-05-23T02:19:47.411241Z",
     "start_time": "2023-05-23T02:19:47.404444Z"
    }
   }
  },
  {
   "cell_type": "code",
   "execution_count": 64,
   "outputs": [],
   "source": [
    "x_valid = x_valid[:rnn_forecast.shape[0]]"
   ],
   "metadata": {
    "collapsed": false,
    "ExecuteTime": {
     "end_time": "2023-05-23T02:19:48.264614Z",
     "start_time": "2023-05-23T02:19:48.258333Z"
    }
   }
  },
  {
   "cell_type": "code",
   "execution_count": 65,
   "outputs": [
    {
     "data": {
      "text/plain": "0.03489537973609473"
     },
     "execution_count": 65,
     "metadata": {},
     "output_type": "execute_result"
    }
   ],
   "source": [
    "result = mae(x_valid, rnn_forecast)\n",
    "result"
   ],
   "metadata": {
    "collapsed": false,
    "ExecuteTime": {
     "end_time": "2023-05-23T02:19:48.766378Z",
     "start_time": "2023-05-23T02:19:48.761327Z"
    }
   }
  },
  {
   "cell_type": "code",
   "execution_count": null,
   "outputs": [],
   "source": [],
   "metadata": {
    "collapsed": false
   }
  }
 ],
 "metadata": {
  "kernelspec": {
   "display_name": "Python 3",
   "language": "python",
   "name": "python3"
  },
  "language_info": {
   "codemirror_mode": {
    "name": "ipython",
    "version": 2
   },
   "file_extension": ".py",
   "mimetype": "text/x-python",
   "name": "python",
   "nbconvert_exporter": "python",
   "pygments_lexer": "ipython2",
   "version": "2.7.6"
  }
 },
 "nbformat": 4,
 "nbformat_minor": 0
}
