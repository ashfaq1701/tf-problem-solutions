{
 "cells": [
  {
   "cell_type": "code",
   "execution_count": 2,
   "metadata": {
    "collapsed": true,
    "ExecuteTime": {
     "end_time": "2023-05-22T21:32:17.573558Z",
     "start_time": "2023-05-22T21:32:15.718769Z"
    }
   },
   "outputs": [
    {
     "data": {
      "text/plain": "'2.10.0'"
     },
     "execution_count": 2,
     "metadata": {},
     "output_type": "execute_result"
    }
   ],
   "source": [
    "import numpy as np\n",
    "import pandas as pd\n",
    "import tensorflow as tf\n",
    "import tensorflow_datasets as tfds\n",
    "\n",
    "tf.__version__"
   ]
  },
  {
   "cell_type": "code",
   "execution_count": 3,
   "outputs": [
    {
     "name": "stderr",
     "output_type": "stream",
     "text": [
      "2023-05-22 22:32:19.637655: W tensorflow/core/platform/cloud/google_auth_provider.cc:184] All attempts to get a Google authentication bearer token failed, returning an empty token. Retrieving token from files failed with \"NOT_FOUND: Could not locate the credentials file.\". Retrieving token from GCE failed with \"FAILED_PRECONDITION: Error executing an HTTP request: libcurl code 6 meaning 'Couldn't resolve host name', error details: Could not resolve host: metadata\".\n"
     ]
    },
    {
     "name": "stdout",
     "output_type": "stream",
     "text": [
      "\u001B[1mDownloading and preparing dataset Unknown size (download: Unknown size, generated: 171.63 MiB, total: 171.63 MiB) to ~/tensorflow_datasets/beans/0.1.0...\u001B[0m\n"
     ]
    },
    {
     "data": {
      "text/plain": "Dl Completed...: 0 url [00:00, ? url/s]",
      "application/vnd.jupyter.widget-view+json": {
       "version_major": 2,
       "version_minor": 0,
       "model_id": "9869db9e629d47ca81c0cf833b7301c7"
      }
     },
     "metadata": {},
     "output_type": "display_data"
    },
    {
     "data": {
      "text/plain": "Dl Size...: 0 MiB [00:00, ? MiB/s]",
      "application/vnd.jupyter.widget-view+json": {
       "version_major": 2,
       "version_minor": 0,
       "model_id": "d74ad586b40e415b99d9525d9c6ef0e0"
      }
     },
     "metadata": {},
     "output_type": "display_data"
    },
    {
     "data": {
      "text/plain": "Generating splits...:   0%|          | 0/3 [00:00<?, ? splits/s]",
      "application/vnd.jupyter.widget-view+json": {
       "version_major": 2,
       "version_minor": 0,
       "model_id": "699062717f0f4af9a65519ba5e7f9314"
      }
     },
     "metadata": {},
     "output_type": "display_data"
    },
    {
     "data": {
      "text/plain": "Generating train examples...:   0%|          | 0/1034 [00:00<?, ? examples/s]",
      "application/vnd.jupyter.widget-view+json": {
       "version_major": 2,
       "version_minor": 0,
       "model_id": "5ecd249757ed49258a6b6b808a2dbb60"
      }
     },
     "metadata": {},
     "output_type": "display_data"
    },
    {
     "data": {
      "text/plain": "Shuffling ~/tensorflow_datasets/beans/0.1.0.incompleteTW90DC/beans-train.tfrecord*...:   0%|          | 0/1034…",
      "application/vnd.jupyter.widget-view+json": {
       "version_major": 2,
       "version_minor": 0,
       "model_id": "36ed15366476472c942fd92169d487b0"
      }
     },
     "metadata": {},
     "output_type": "display_data"
    },
    {
     "data": {
      "text/plain": "Generating validation examples...:   0%|          | 0/133 [00:00<?, ? examples/s]",
      "application/vnd.jupyter.widget-view+json": {
       "version_major": 2,
       "version_minor": 0,
       "model_id": "57c740a88f084d5b84e5d850ae040591"
      }
     },
     "metadata": {},
     "output_type": "display_data"
    },
    {
     "data": {
      "text/plain": "Shuffling ~/tensorflow_datasets/beans/0.1.0.incompleteTW90DC/beans-validation.tfrecord*...:   0%|          | 0…",
      "application/vnd.jupyter.widget-view+json": {
       "version_major": 2,
       "version_minor": 0,
       "model_id": "fbbdd64052ea4ef6a3c108dbdaa48eac"
      }
     },
     "metadata": {},
     "output_type": "display_data"
    },
    {
     "data": {
      "text/plain": "Generating test examples...:   0%|          | 0/128 [00:00<?, ? examples/s]",
      "application/vnd.jupyter.widget-view+json": {
       "version_major": 2,
       "version_minor": 0,
       "model_id": "c98b5ebed42d427680564b61a11ddb57"
      }
     },
     "metadata": {},
     "output_type": "display_data"
    },
    {
     "data": {
      "text/plain": "Shuffling ~/tensorflow_datasets/beans/0.1.0.incompleteTW90DC/beans-test.tfrecord*...:   0%|          | 0/128 […",
      "application/vnd.jupyter.widget-view+json": {
       "version_major": 2,
       "version_minor": 0,
       "model_id": "c4d7a7bd4a894d6e85cb2cb41f808399"
      }
     },
     "metadata": {},
     "output_type": "display_data"
    },
    {
     "name": "stdout",
     "output_type": "stream",
     "text": [
      "\u001B[1mDataset beans downloaded and prepared to ~/tensorflow_datasets/beans/0.1.0. Subsequent calls will reuse this data.\u001B[0m\n"
     ]
    }
   ],
   "source": [
    "(ds_train, ds_validation), ds_info = tfds.load(\n",
    "      name='beans',\n",
    "      split=['train', 'validation'],\n",
    "      as_supervised=True,\n",
    "      with_info=True)"
   ],
   "metadata": {
    "collapsed": false,
    "ExecuteTime": {
     "end_time": "2023-05-22T21:32:39.026735Z",
     "start_time": "2023-05-22T21:32:19.631908Z"
    }
   }
  },
  {
   "cell_type": "code",
   "execution_count": 4,
   "outputs": [],
   "source": [
    "def preprocess(image, label):\n",
    "  resized_img = tf.image.resize(image, [300, 300])\n",
    "  resized_img = resized_img / 255.\n",
    "  return resized_img, label\n",
    "\n",
    "BATCH_SIZE = 32"
   ],
   "metadata": {
    "collapsed": false,
    "ExecuteTime": {
     "end_time": "2023-05-22T21:32:57.639424Z",
     "start_time": "2023-05-22T21:32:57.638008Z"
    }
   }
  },
  {
   "cell_type": "code",
   "execution_count": 5,
   "outputs": [],
   "source": [
    "ds_train = ds_train.map(preprocess).cache().shuffle(\n",
    "    ds_info.splits['train'].num_examples).batch(BATCH_SIZE).prefetch(\n",
    "    tf.data.experimental.AUTOTUNE)\n",
    "ds_validation = ds_validation.map(preprocess).batch(BATCH_SIZE).cache(\n",
    "\n",
    ").prefetch(tf.data.experimental.AUTOTUNE)"
   ],
   "metadata": {
    "collapsed": false,
    "ExecuteTime": {
     "end_time": "2023-05-22T21:34:22.493239Z",
     "start_time": "2023-05-22T21:34:22.452256Z"
    }
   }
  },
  {
   "cell_type": "code",
   "execution_count": 16,
   "outputs": [],
   "source": [
    "model = tf.keras.models.Sequential([\n",
    "\n",
    "        # ADD LAYERS OF THE MODEL HERE\n",
    "        tf.keras.layers.Conv2D(10, 3, activation=\"relu\", input_shape=(300, 300, 3)),\n",
    "        tf.keras.layers.MaxPool2D(),\n",
    "        tf.keras.layers.Conv2D(10, 3, activation='relu'),\n",
    "        tf.keras.layers.MaxPool2D(),\n",
    "        tf.keras.layers.Conv2D(10, 3, activation='relu'),\n",
    "        tf.keras.layers.MaxPool2D(),\n",
    "        tf.keras.layers.Flatten(),\n",
    "        # If you don't adhere to the instructions in the following comments,\n",
    "        # tests will fail to grade your model:\n",
    "        # The input layer of your model must have an input shape of\n",
    "        # (300,300,3).\n",
    "        # Make sure that your last layer has 3 (number of classes) neurons\n",
    "        # activated by softmax.\n",
    "        tf.keras.layers.Dense(3, activation='softmax')\n",
    "    ])"
   ],
   "metadata": {
    "collapsed": false,
    "ExecuteTime": {
     "end_time": "2023-05-22T21:46:31.848139Z",
     "start_time": "2023-05-22T21:46:31.820323Z"
    }
   }
  },
  {
   "cell_type": "code",
   "execution_count": 17,
   "outputs": [],
   "source": [
    "model.compile(loss=tf.keras.losses.SparseCategoricalCrossentropy(),\n",
    "              optimizer=tf.keras.optimizers.Adam(),\n",
    "              metrics=['accuracy'])"
   ],
   "metadata": {
    "collapsed": false,
    "ExecuteTime": {
     "end_time": "2023-05-22T21:46:34.830536Z",
     "start_time": "2023-05-22T21:46:34.826599Z"
    }
   }
  },
  {
   "cell_type": "code",
   "execution_count": 18,
   "outputs": [],
   "source": [
    "earlyStoppingCallback = tf.keras.callbacks.EarlyStopping(\n",
    "      monitor=\"val_loss\",\n",
    "      patience=200,\n",
    "      restore_best_weights=True)"
   ],
   "metadata": {
    "collapsed": false,
    "ExecuteTime": {
     "end_time": "2023-05-22T21:46:36.421693Z",
     "start_time": "2023-05-22T21:46:36.417205Z"
    }
   }
  },
  {
   "cell_type": "code",
   "execution_count": 19,
   "outputs": [
    {
     "name": "stdout",
     "output_type": "stream",
     "text": [
      "Epoch 1/20\n",
      "33/33 [==============================] - 6s 172ms/step - loss: 1.0021 - accuracy: 0.5019 - val_loss: 0.8773 - val_accuracy: 0.5865\n",
      "Epoch 2/20\n",
      "33/33 [==============================] - 6s 170ms/step - loss: 0.7956 - accuracy: 0.6364 - val_loss: 0.7809 - val_accuracy: 0.6391\n",
      "Epoch 3/20\n",
      "33/33 [==============================] - 6s 170ms/step - loss: 0.6786 - accuracy: 0.7099 - val_loss: 0.6676 - val_accuracy: 0.6617\n",
      "Epoch 4/20\n",
      "33/33 [==============================] - 6s 171ms/step - loss: 0.5873 - accuracy: 0.7611 - val_loss: 0.6013 - val_accuracy: 0.7669\n",
      "Epoch 5/20\n",
      "33/33 [==============================] - 6s 171ms/step - loss: 0.5445 - accuracy: 0.7882 - val_loss: 0.6131 - val_accuracy: 0.7218\n",
      "Epoch 6/20\n",
      "33/33 [==============================] - 6s 171ms/step - loss: 0.4741 - accuracy: 0.8133 - val_loss: 0.5210 - val_accuracy: 0.7820\n",
      "Epoch 7/20\n",
      "33/33 [==============================] - 6s 171ms/step - loss: 0.3951 - accuracy: 0.8549 - val_loss: 1.0075 - val_accuracy: 0.5564\n",
      "Epoch 8/20\n",
      "33/33 [==============================] - 6s 170ms/step - loss: 0.4299 - accuracy: 0.8356 - val_loss: 0.7196 - val_accuracy: 0.6842\n",
      "Epoch 9/20\n",
      "33/33 [==============================] - 6s 171ms/step - loss: 0.3565 - accuracy: 0.8733 - val_loss: 0.6763 - val_accuracy: 0.7368\n",
      "Epoch 10/20\n",
      "33/33 [==============================] - 6s 171ms/step - loss: 0.2839 - accuracy: 0.8936 - val_loss: 0.5049 - val_accuracy: 0.7594\n",
      "Epoch 11/20\n",
      "33/33 [==============================] - 6s 170ms/step - loss: 0.2750 - accuracy: 0.9072 - val_loss: 0.5066 - val_accuracy: 0.7895\n",
      "Epoch 12/20\n",
      "33/33 [==============================] - 6s 171ms/step - loss: 0.1967 - accuracy: 0.9458 - val_loss: 0.7298 - val_accuracy: 0.7368\n",
      "Epoch 13/20\n",
      "33/33 [==============================] - 6s 171ms/step - loss: 0.1604 - accuracy: 0.9574 - val_loss: 0.5884 - val_accuracy: 0.7744\n",
      "Epoch 14/20\n",
      "33/33 [==============================] - 6s 171ms/step - loss: 0.1231 - accuracy: 0.9768 - val_loss: 0.5624 - val_accuracy: 0.7820\n",
      "Epoch 15/20\n",
      "33/33 [==============================] - 6s 172ms/step - loss: 0.0913 - accuracy: 0.9836 - val_loss: 0.6137 - val_accuracy: 0.7669\n",
      "Epoch 16/20\n",
      "33/33 [==============================] - 6s 173ms/step - loss: 0.0900 - accuracy: 0.9816 - val_loss: 0.7644 - val_accuracy: 0.7444\n",
      "Epoch 17/20\n",
      "33/33 [==============================] - 6s 172ms/step - loss: 0.0729 - accuracy: 0.9913 - val_loss: 0.6796 - val_accuracy: 0.7744\n",
      "Epoch 18/20\n",
      "33/33 [==============================] - 6s 172ms/step - loss: 0.0565 - accuracy: 0.9923 - val_loss: 0.6543 - val_accuracy: 0.7744\n",
      "Epoch 19/20\n",
      "33/33 [==============================] - 6s 172ms/step - loss: 0.0416 - accuracy: 0.9981 - val_loss: 0.6765 - val_accuracy: 0.8045\n",
      "Epoch 20/20\n",
      "33/33 [==============================] - 6s 172ms/step - loss: 0.0293 - accuracy: 0.9981 - val_loss: 0.6623 - val_accuracy: 0.7895\n"
     ]
    }
   ],
   "source": [
    "history_10 = model.fit(ds_train,\n",
    "                       epochs=20,\n",
    "                       steps_per_epoch=len(ds_train),\n",
    "                       validation_data=ds_validation,\n",
    "                       validation_steps=len(ds_validation),\n",
    "                       callbacks=[earlyStoppingCallback])"
   ],
   "metadata": {
    "collapsed": false,
    "ExecuteTime": {
     "end_time": "2023-05-22T21:48:31.645132Z",
     "start_time": "2023-05-22T21:46:38.436142Z"
    }
   }
  },
  {
   "cell_type": "code",
   "execution_count": 20,
   "outputs": [
    {
     "name": "stdout",
     "output_type": "stream",
     "text": [
      "5/5 [==============================] - 0s 33ms/step - loss: 0.6623 - accuracy: 0.7895\n"
     ]
    },
    {
     "data": {
      "text/plain": "[0.6622675061225891, 0.7894737124443054]"
     },
     "execution_count": 20,
     "metadata": {},
     "output_type": "execute_result"
    }
   ],
   "source": [
    "model.evaluate(ds_validation)"
   ],
   "metadata": {
    "collapsed": false,
    "ExecuteTime": {
     "end_time": "2023-05-22T21:48:52.596729Z",
     "start_time": "2023-05-22T21:48:52.413756Z"
    }
   }
  },
  {
   "cell_type": "code",
   "execution_count": null,
   "outputs": [],
   "source": [],
   "metadata": {
    "collapsed": false
   }
  }
 ],
 "metadata": {
  "kernelspec": {
   "display_name": "Python 3",
   "language": "python",
   "name": "python3"
  },
  "language_info": {
   "codemirror_mode": {
    "name": "ipython",
    "version": 2
   },
   "file_extension": ".py",
   "mimetype": "text/x-python",
   "name": "python",
   "nbconvert_exporter": "python",
   "pygments_lexer": "ipython2",
   "version": "2.7.6"
  }
 },
 "nbformat": 4,
 "nbformat_minor": 0
}
