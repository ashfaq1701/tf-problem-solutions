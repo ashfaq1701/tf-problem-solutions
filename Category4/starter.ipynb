{
 "cells": [
  {
   "cell_type": "code",
   "execution_count": 44,
   "metadata": {
    "collapsed": true,
    "ExecuteTime": {
     "end_time": "2023-05-23T20:51:33.530963Z",
     "start_time": "2023-05-23T20:51:32.358611Z"
    }
   },
   "outputs": [
    {
     "data": {
      "text/plain": "'2.10.0'"
     },
     "execution_count": 44,
     "metadata": {},
     "output_type": "execute_result"
    }
   ],
   "source": [
    "import numpy as np\n",
    "import pandas as pd\n",
    "import tensorflow as tf\n",
    "import tensorflow_datasets as tfds\n",
    "import matplotlib.pyplot as plt\n",
    "import urllib\n",
    "import json\n",
    "\n",
    "tf.__version__"
   ]
  },
  {
   "cell_type": "code",
   "execution_count": 7,
   "outputs": [
    {
     "data": {
      "text/plain": "('sarcasm.json', <http.client.HTTPMessage at 0x16d47ed00>)"
     },
     "execution_count": 7,
     "metadata": {},
     "output_type": "execute_result"
    }
   ],
   "source": [
    "url = 'https://storage.googleapis.com/download.tensorflow.org/data/sarcasm.json'\n",
    "urllib.request.urlretrieve(url, 'sarcasm.json')"
   ],
   "metadata": {
    "collapsed": false,
    "ExecuteTime": {
     "end_time": "2023-05-23T18:04:28.607867Z",
     "start_time": "2023-05-23T18:04:27.379133Z"
    }
   }
  },
  {
   "cell_type": "code",
   "execution_count": 28,
   "outputs": [],
   "source": [
    "headlines = []\n",
    "links = []\n",
    "labels = []"
   ],
   "metadata": {
    "collapsed": false,
    "ExecuteTime": {
     "end_time": "2023-05-23T19:19:02.058753Z",
     "start_time": "2023-05-23T19:19:02.056279Z"
    }
   }
  },
  {
   "cell_type": "code",
   "execution_count": 29,
   "outputs": [],
   "source": [
    "f = open('sarcasm.json')\n",
    "\n",
    "data = json.load(f)\n",
    "\n",
    "for item in data:\n",
    "    headlines.append(item['headline'])\n",
    "    links.append(item['article_link'])\n",
    "    labels.append(item['is_sarcastic'])"
   ],
   "metadata": {
    "collapsed": false,
    "ExecuteTime": {
     "end_time": "2023-05-23T19:19:03.985973Z",
     "start_time": "2023-05-23T19:19:03.947028Z"
    }
   }
  },
  {
   "cell_type": "code",
   "execution_count": 30,
   "outputs": [
    {
     "data": {
      "text/plain": "(26709, 26709)"
     },
     "execution_count": 30,
     "metadata": {},
     "output_type": "execute_result"
    }
   ],
   "source": [
    "from sklearn.model_selection import train_test_split"
   ],
   "metadata": {
    "collapsed": false,
    "ExecuteTime": {
     "end_time": "2023-05-23T19:19:08.188963Z",
     "start_time": "2023-05-23T19:19:08.177650Z"
    }
   }
  },
  {
   "cell_type": "code",
   "execution_count": 31,
   "outputs": [],
   "source": [
    "train_headlines, val_headlines, train_labels, val_labels = train_test_split(headlines,\n",
    "                                                                            labels,\n",
    "                                                                            test_size=0.1,\n",
    "                                                                            random_state=42)"
   ],
   "metadata": {
    "collapsed": false,
    "ExecuteTime": {
     "end_time": "2023-05-23T19:19:13.280492Z",
     "start_time": "2023-05-23T19:19:13.271244Z"
    }
   }
  },
  {
   "cell_type": "code",
   "execution_count": 32,
   "outputs": [
    {
     "data": {
      "text/plain": "(['win a $10,000 mall of america dream shooting spree!',\n  'cash-strapped oklahoma to conduct executions by hammering squad',\n  'what will the disruption of politics look like?',\n  'three qualities a woman should possess to be powerful, from jill abramson (video)',\n  \"david petraeus: white house is wrong, generals are 'fair game' for criticism\",\n  'queen bun gives birth to thousands of tiny rolls',\n  \"behind the black curtain with tom brady: tears and concerns over patriots' dynasty\",\n  'your four-legged friends are leaving a serious carbon pawprint on the planet',\n  'herpetologist names son after famous herpetologist',\n  'should banks be allowed to robocall your mobile phone?'],\n [1, 1, 0, 0, 0, 1, 0, 0, 1, 0])"
     },
     "execution_count": 32,
     "metadata": {},
     "output_type": "execute_result"
    }
   ],
   "source": [
    "train_headlines[:10], train_labels[:10]"
   ],
   "metadata": {
    "collapsed": false,
    "ExecuteTime": {
     "end_time": "2023-05-23T19:19:40.471527Z",
     "start_time": "2023-05-23T19:19:40.465716Z"
    }
   }
  },
  {
   "cell_type": "code",
   "execution_count": 40,
   "outputs": [
    {
     "data": {
      "text/plain": "26984"
     },
     "execution_count": 40,
     "metadata": {},
     "output_type": "execute_result"
    }
   ],
   "source": [
    "from tensorflow.keras.layers.experimental.preprocessing import TextVectorization\n",
    "\n",
    "text_vectorizer = TextVectorization(max_tokens=None,\n",
    "                                    standardize=\"lower_and_strip_punctuation\",\n",
    "                                    split=\"whitespace\",\n",
    "                                    ngrams=None,\n",
    "                                    output_mode=\"int\",\n",
    "                                    output_sequence_length=None)\n",
    "text_vectorizer.adapt(train_headlines)\n",
    "len(text_vectorizer.get_vocabulary())"
   ],
   "metadata": {
    "collapsed": false,
    "ExecuteTime": {
     "end_time": "2023-05-23T19:27:45.420616Z",
     "start_time": "2023-05-23T19:27:45.080488Z"
    }
   }
  },
  {
   "cell_type": "markdown",
   "source": [
    "### Vocab Size is 26984"
   ],
   "metadata": {
    "collapsed": false
   }
  },
  {
   "cell_type": "code",
   "execution_count": 41,
   "outputs": [],
   "source": [
    "sent_lens = [len(headline.split()) for headline in train_headlines]"
   ],
   "metadata": {
    "collapsed": false,
    "ExecuteTime": {
     "end_time": "2023-05-23T19:30:02.964846Z",
     "start_time": "2023-05-23T19:30:02.960720Z"
    }
   }
  },
  {
   "cell_type": "code",
   "execution_count": 45,
   "outputs": [
    {
     "data": {
      "text/plain": "(array([1.9340e+03, 9.1790e+03, 1.0094e+04, 2.2600e+03, 5.1100e+02,\n        4.9000e+01, 4.0000e+00, 5.0000e+00, 0.0000e+00, 2.0000e+00]),\n array([ 2. ,  5.7,  9.4, 13.1, 16.8, 20.5, 24.2, 27.9, 31.6, 35.3, 39. ]),\n <BarContainer object of 10 artists>)"
     },
     "execution_count": 45,
     "metadata": {},
     "output_type": "execute_result"
    },
    {
     "data": {
      "text/plain": "<Figure size 640x480 with 1 Axes>",
      "image/png": "[encoded data removed]"
     },
     "metadata": {},
     "output_type": "display_data"
    }
   ],
   "source": [
    "plt.hist(sent_lens)"
   ],
   "metadata": {
    "collapsed": false,
    "ExecuteTime": {
     "end_time": "2023-05-23T20:51:37.907846Z",
     "start_time": "2023-05-23T20:51:37.629056Z"
    }
   }
  },
  {
   "cell_type": "markdown",
   "source": [
    "### Most of the sentences are 21 words long"
   ],
   "metadata": {
    "collapsed": false
   }
  },
  {
   "cell_type": "code",
   "execution_count": 55,
   "outputs": [],
   "source": [
    "max_vocab_length = 20000\n",
    "max_sentence_length = 21\n",
    "\n",
    "text_vectorizer = TextVectorization(max_tokens=max_vocab_length,\n",
    "                                    output_mode=\"int\",\n",
    "                                    output_sequence_length=max_sentence_length)\n",
    "text_vectorizer.adapt(train_headlines)"
   ],
   "metadata": {
    "collapsed": false,
    "ExecuteTime": {
     "end_time": "2023-05-23T21:51:17.313949Z",
     "start_time": "2023-05-23T21:51:17.007285Z"
    }
   }
  },
  {
   "cell_type": "code",
   "execution_count": 56,
   "outputs": [],
   "source": [
    "train_dataset = tf.data.Dataset.from_tensor_slices((train_headlines, train_labels))\n",
    "val_dataset = tf.data.Dataset.from_tensor_slices((val_headlines, val_labels))\n",
    "\n",
    "BATCH_SIZE = 32\n",
    "\n",
    "train_dataset = train_dataset.batch(BATCH_SIZE).prefetch(tf.data.AUTOTUNE)\n",
    "val_dataset = val_dataset.batch(BATCH_SIZE).prefetch(tf.data.AUTOTUNE)"
   ],
   "metadata": {
    "collapsed": false,
    "ExecuteTime": {
     "end_time": "2023-05-23T21:51:31.913039Z",
     "start_time": "2023-05-23T21:51:31.904955Z"
    }
   }
  },
  {
   "cell_type": "code",
   "execution_count": 71,
   "outputs": [],
   "source": [
    "tf.random.set_seed(42)\n",
    "\n",
    "embedding = tf.keras.layers.Embedding(input_dim=max_vocab_length,\n",
    "                                      output_dim=128,\n",
    "                                      embeddings_initializer=\"uniform\",\n",
    "                                      input_length=max_sentence_length,\n",
    "                                      name=\"embedding_1\")\n",
    "\n",
    "inputs = tf.keras.layers.Input(shape=(1,), dtype=tf.string)\n",
    "x = text_vectorizer(inputs)\n",
    "x = embedding(x)\n",
    "x = tf.keras.layers.Bidirectional(tf.keras.layers.LSTM(64, return_sequences=True))(x)\n",
    "x = tf.keras.layers.Bidirectional(tf.keras.layers.LSTM(64))(x)\n",
    "outputs = tf.keras.layers.Dense(1, activation=\"sigmoid\")(x)\n",
    "model_1 = tf.keras.Model(inputs, outputs, name=\"model_1_Bidirectional\")\n"
   ],
   "metadata": {
    "collapsed": false,
    "ExecuteTime": {
     "end_time": "2023-05-23T22:16:28.016128Z",
     "start_time": "2023-05-23T22:16:27.535800Z"
    }
   }
  },
  {
   "cell_type": "code",
   "execution_count": 72,
   "outputs": [],
   "source": [
    "model_1.compile(loss=\"binary_crossentropy\",\n",
    "                optimizer=tf.keras.optimizers.Adam(),\n",
    "                metrics=[\"accuracy\"])\n",
    "\n"
   ],
   "metadata": {
    "collapsed": false,
    "ExecuteTime": {
     "end_time": "2023-05-23T22:16:29.793678Z",
     "start_time": "2023-05-23T22:16:29.786669Z"
    }
   }
  },
  {
   "cell_type": "code",
   "execution_count": 73,
   "outputs": [
    {
     "name": "stdout",
     "output_type": "stream",
     "text": [
      "Epoch 1/20\n",
      "752/752 [==============================] - 21s 24ms/step - loss: 0.3750 - accuracy: 0.8284 - val_loss: 0.3163 - val_accuracy: 0.8600\n",
      "Epoch 2/20\n",
      "752/752 [==============================] - 18s 24ms/step - loss: 0.1613 - accuracy: 0.9375 - val_loss: 0.3725 - val_accuracy: 0.8581\n",
      "Epoch 3/20\n",
      "752/752 [==============================] - 17s 23ms/step - loss: 0.0551 - accuracy: 0.9812 - val_loss: 0.5453 - val_accuracy: 0.8401\n",
      "Epoch 4/20\n",
      "752/752 [==============================] - 18s 23ms/step - loss: 0.0350 - accuracy: 0.9882 - val_loss: 0.6537 - val_accuracy: 0.8472\n",
      "Epoch 5/20\n",
      "752/752 [==============================] - 17s 22ms/step - loss: 0.0262 - accuracy: 0.9910 - val_loss: 0.6799 - val_accuracy: 0.8390\n",
      "Epoch 6/20\n",
      "752/752 [==============================] - 17s 22ms/step - loss: 0.0227 - accuracy: 0.9926 - val_loss: 0.6634 - val_accuracy: 0.8409\n"
     ]
    }
   ],
   "source": [
    "model_1_history = model_1.fit(train_dataset,\n",
    "                              epochs=20,\n",
    "                              validation_data=val_dataset,\n",
    "                              callbacks=[tf.keras.callbacks.EarlyStopping(monitor=\"val_loss\", patience=5, restore_best_weights=True)])"
   ],
   "metadata": {
    "collapsed": false,
    "ExecuteTime": {
     "end_time": "2023-05-23T22:18:19.676439Z",
     "start_time": "2023-05-23T22:16:32.539171Z"
    }
   }
  },
  {
   "cell_type": "code",
   "execution_count": 90,
   "outputs": [
    {
     "name": "stdout",
     "output_type": "stream",
     "text": [
      "84/84 [==============================] - 1s 5ms/step - loss: 0.3163 - accuracy: 0.8600\n"
     ]
    },
    {
     "data": {
      "text/plain": "[0.3163367211818695, 0.8599775433540344]"
     },
     "execution_count": 90,
     "metadata": {},
     "output_type": "execute_result"
    }
   ],
   "source": [
    "model_1.evaluate(val_dataset)"
   ],
   "metadata": {
    "collapsed": false,
    "ExecuteTime": {
     "end_time": "2023-05-23T22:25:16.856650Z",
     "start_time": "2023-05-23T22:25:16.329118Z"
    }
   }
  },
  {
   "cell_type": "code",
   "execution_count": 75,
   "outputs": [],
   "source": [
    "tf.random.set_seed(42)\n",
    "\n",
    "embedding = tf.keras.layers.Embedding(input_dim=max_vocab_length,\n",
    "                                      output_dim=128,\n",
    "                                      embeddings_initializer=\"uniform\",\n",
    "                                      input_length=max_sentence_length,\n",
    "                                      name=\"embedding_1\")\n",
    "\n",
    "inputs = tf.keras.layers.Input(shape=(1,), dtype=tf.string)\n",
    "x = text_vectorizer(inputs)\n",
    "x = embedding(x)\n",
    "x = tf.keras.layers.LSTM(64, return_sequences=True)(x)\n",
    "x = tf.keras.layers.LSTM(64)(x)\n",
    "outputs = tf.keras.layers.Dense(1, activation=\"sigmoid\")(x)\n",
    "model_2 = tf.keras.Model(inputs, outputs, name=\"model_1_Bidirectional\")"
   ],
   "metadata": {
    "collapsed": false,
    "ExecuteTime": {
     "end_time": "2023-05-23T22:18:40.679433Z",
     "start_time": "2023-05-23T22:18:40.425578Z"
    }
   }
  },
  {
   "cell_type": "code",
   "execution_count": 76,
   "outputs": [],
   "source": [
    "model_2.compile(loss=\"binary_crossentropy\",\n",
    "                optimizer=tf.keras.optimizers.Adam(),\n",
    "                metrics=[\"accuracy\"])"
   ],
   "metadata": {
    "collapsed": false,
    "ExecuteTime": {
     "end_time": "2023-05-23T22:18:42.450878Z",
     "start_time": "2023-05-23T22:18:42.444693Z"
    }
   }
  },
  {
   "cell_type": "code",
   "execution_count": 77,
   "outputs": [
    {
     "name": "stdout",
     "output_type": "stream",
     "text": [
      "Epoch 1/20\n",
      "752/752 [==============================] - 14s 17ms/step - loss: 0.3864 - accuracy: 0.8245 - val_loss: 0.3553 - val_accuracy: 0.8574\n",
      "Epoch 2/20\n",
      "752/752 [==============================] - 13s 17ms/step - loss: 0.1799 - accuracy: 0.9322 - val_loss: 0.4509 - val_accuracy: 0.8480\n",
      "Epoch 3/20\n",
      "752/752 [==============================] - 13s 17ms/step - loss: 0.0749 - accuracy: 0.9768 - val_loss: 0.5479 - val_accuracy: 0.8431\n",
      "Epoch 4/20\n",
      "752/752 [==============================] - 13s 17ms/step - loss: 0.0541 - accuracy: 0.9829 - val_loss: 0.6310 - val_accuracy: 0.8443\n",
      "Epoch 5/20\n",
      "752/752 [==============================] - 12s 16ms/step - loss: 0.0417 - accuracy: 0.9864 - val_loss: 0.6194 - val_accuracy: 0.8465\n",
      "Epoch 6/20\n",
      "752/752 [==============================] - 12s 16ms/step - loss: 0.0358 - accuracy: 0.9885 - val_loss: 0.7271 - val_accuracy: 0.8379\n"
     ]
    }
   ],
   "source": [
    "model_2_history = model_2.fit(train_dataset,\n",
    "                              epochs=20,\n",
    "                              validation_data=val_dataset,\n",
    "                              callbacks=[tf.keras.callbacks.EarlyStopping(monitor=\"val_loss\", patience=5, restore_best_weights=True)])"
   ],
   "metadata": {
    "collapsed": false,
    "ExecuteTime": {
     "end_time": "2023-05-23T22:20:02.547179Z",
     "start_time": "2023-05-23T22:18:45.701595Z"
    }
   }
  },
  {
   "cell_type": "code",
   "execution_count": 89,
   "outputs": [
    {
     "name": "stdout",
     "output_type": "stream",
     "text": [
      "84/84 [==============================] - 0s 4ms/step - loss: 0.5435 - accuracy: 0.8443\n"
     ]
    },
    {
     "data": {
      "text/plain": "[0.5435160994529724, 0.8442530632019043]"
     },
     "execution_count": 89,
     "metadata": {},
     "output_type": "execute_result"
    }
   ],
   "source": [
    "model_2.evaluate(val_dataset)"
   ],
   "metadata": {
    "collapsed": false,
    "ExecuteTime": {
     "end_time": "2023-05-23T22:25:10.640194Z",
     "start_time": "2023-05-23T22:25:10.334913Z"
    }
   }
  },
  {
   "cell_type": "code",
   "execution_count": 84,
   "outputs": [],
   "source": [
    "tf.random.set_seed(42)\n",
    "\n",
    "embedding = tf.keras.layers.Embedding(input_dim=max_vocab_length,\n",
    "                                      output_dim=128,\n",
    "                                      embeddings_initializer=\"uniform\",\n",
    "                                      input_length=max_sentence_length,\n",
    "                                      name=\"embedding_1\")\n",
    "\n",
    "inputs = tf.keras.layers.Input(shape=(1,), dtype=tf.string)\n",
    "x = text_vectorizer(inputs)\n",
    "x = embedding(x)\n",
    "x = tf.keras.layers.GRU(64, return_sequences=True)(x)\n",
    "x = tf.keras.layers.GRU(64)(x)\n",
    "outputs = tf.keras.layers.Dense(1, activation=\"sigmoid\")(x)\n",
    "model_3 = tf.keras.Model(inputs, outputs, name=\"model_1_Bidirectional\")"
   ],
   "metadata": {
    "collapsed": false,
    "ExecuteTime": {
     "end_time": "2023-05-23T22:23:25.870921Z",
     "start_time": "2023-05-23T22:23:25.343376Z"
    }
   }
  },
  {
   "cell_type": "code",
   "execution_count": 85,
   "outputs": [],
   "source": [
    "model_3.compile(loss=\"binary_crossentropy\",\n",
    "                optimizer=tf.keras.optimizers.Adam(),\n",
    "                metrics=[\"accuracy\"])"
   ],
   "metadata": {
    "collapsed": false,
    "ExecuteTime": {
     "end_time": "2023-05-23T22:23:27.225102Z",
     "start_time": "2023-05-23T22:23:27.217283Z"
    }
   }
  },
  {
   "cell_type": "code",
   "execution_count": 86,
   "outputs": [
    {
     "name": "stdout",
     "output_type": "stream",
     "text": [
      "Epoch 1/20\n",
      "752/752 [==============================] - 12s 16ms/step - loss: 0.0817 - accuracy: 0.9720 - val_loss: 0.5435 - val_accuracy: 0.8443\n",
      "Epoch 2/20\n",
      "752/752 [==============================] - 12s 16ms/step - loss: 0.0537 - accuracy: 0.9833 - val_loss: 0.5768 - val_accuracy: 0.8341\n",
      "Epoch 3/20\n",
      "752/752 [==============================] - 12s 16ms/step - loss: 0.0360 - accuracy: 0.9891 - val_loss: 0.7501 - val_accuracy: 0.8439\n",
      "Epoch 4/20\n",
      "752/752 [==============================] - 12s 16ms/step - loss: 0.0293 - accuracy: 0.9907 - val_loss: 0.8184 - val_accuracy: 0.8416\n",
      "Epoch 5/20\n",
      "752/752 [==============================] - 13s 17ms/step - loss: 0.0262 - accuracy: 0.9919 - val_loss: 0.8859 - val_accuracy: 0.8461\n",
      "Epoch 6/20\n",
      "752/752 [==============================] - 13s 17ms/step - loss: 0.0205 - accuracy: 0.9935 - val_loss: 0.9049 - val_accuracy: 0.8293\n"
     ]
    }
   ],
   "source": [
    "model_3_history = model_2.fit(train_dataset,\n",
    "                              epochs=20,\n",
    "                              validation_data=val_dataset,\n",
    "                              callbacks=[tf.keras.callbacks.EarlyStopping(monitor=\"val_loss\", patience=5, restore_best_weights=True)])"
   ],
   "metadata": {
    "collapsed": false,
    "ExecuteTime": {
     "end_time": "2023-05-23T22:24:42.576010Z",
     "start_time": "2023-05-23T22:23:29.515951Z"
    }
   }
  },
  {
   "cell_type": "code",
   "execution_count": 92,
   "outputs": [
    {
     "name": "stdout",
     "output_type": "stream",
     "text": [
      "84/84 [==============================] - 0s 3ms/step - loss: 0.6925 - accuracy: 0.5680\n"
     ]
    },
    {
     "data": {
      "text/plain": "[0.6924570202827454, 0.5679520964622498]"
     },
     "execution_count": 92,
     "metadata": {},
     "output_type": "execute_result"
    }
   ],
   "source": [
    "model_3.evaluate(val_dataset)"
   ],
   "metadata": {
    "collapsed": false,
    "ExecuteTime": {
     "end_time": "2023-05-23T22:25:27.616636Z",
     "start_time": "2023-05-23T22:25:27.363026Z"
    }
   }
  },
  {
   "cell_type": "code",
   "execution_count": 94,
   "outputs": [],
   "source": [
    "import tensorflow_hub as hub"
   ],
   "metadata": {
    "collapsed": false,
    "ExecuteTime": {
     "end_time": "2023-05-24T14:29:45.700642Z",
     "start_time": "2023-05-24T14:29:45.671624Z"
    }
   }
  },
  {
   "cell_type": "code",
   "execution_count": 95,
   "outputs": [],
   "source": [
    "sentence_encoder_layer = hub.KerasLayer(\"https://tfhub.dev/google/universal-sentence-encoder/4\",\n",
    "                                        input_shape=[],\n",
    "                                        dtype=tf.string,\n",
    "                                        trainable=False,\n",
    "                                        name=\"USE\")"
   ],
   "metadata": {
    "collapsed": false,
    "ExecuteTime": {
     "end_time": "2023-05-24T14:31:54.394297Z",
     "start_time": "2023-05-24T14:30:37.697579Z"
    }
   }
  },
  {
   "cell_type": "code",
   "execution_count": 101,
   "outputs": [],
   "source": [
    "model_4 = tf.keras.Sequential([\n",
    "    sentence_encoder_layer,\n",
    "    tf.keras.layers.Dense(128, activation=\"relu\"),\n",
    "    tf.keras.layers.Dense(1, activation=\"sigmoid\")\n",
    "], name=\"model_3_USE\")"
   ],
   "metadata": {
    "collapsed": false,
    "ExecuteTime": {
     "end_time": "2023-05-24T14:37:28.271109Z",
     "start_time": "2023-05-24T14:37:28.212368Z"
    }
   }
  },
  {
   "cell_type": "code",
   "execution_count": 102,
   "outputs": [],
   "source": [
    "model_4.compile(loss=\"binary_crossentropy\",\n",
    "                optimizer=tf.keras.optimizers.Adam(),\n",
    "                metrics=[\"accuracy\"])"
   ],
   "metadata": {
    "collapsed": false,
    "ExecuteTime": {
     "end_time": "2023-05-24T14:37:31.203639Z",
     "start_time": "2023-05-24T14:37:31.191088Z"
    }
   }
  },
  {
   "cell_type": "code",
   "execution_count": 103,
   "outputs": [
    {
     "name": "stdout",
     "output_type": "stream",
     "text": [
      "Epoch 1/20\n",
      "752/752 [==============================] - 3s 3ms/step - loss: 0.4723 - accuracy: 0.7728 - val_loss: 0.4290 - val_accuracy: 0.7948\n",
      "Epoch 2/20\n",
      "752/752 [==============================] - 2s 2ms/step - loss: 0.4117 - accuracy: 0.8073 - val_loss: 0.4041 - val_accuracy: 0.8094\n",
      "Epoch 3/20\n",
      "752/752 [==============================] - 2s 2ms/step - loss: 0.3831 - accuracy: 0.8244 - val_loss: 0.3886 - val_accuracy: 0.8188\n",
      "Epoch 4/20\n",
      "752/752 [==============================] - 2s 2ms/step - loss: 0.3584 - accuracy: 0.8384 - val_loss: 0.3779 - val_accuracy: 0.8233\n",
      "Epoch 5/20\n",
      "752/752 [==============================] - 2s 2ms/step - loss: 0.3365 - accuracy: 0.8511 - val_loss: 0.3710 - val_accuracy: 0.8282\n",
      "Epoch 6/20\n",
      "752/752 [==============================] - 2s 2ms/step - loss: 0.3166 - accuracy: 0.8628 - val_loss: 0.3667 - val_accuracy: 0.8345\n",
      "Epoch 7/20\n",
      "752/752 [==============================] - 2s 2ms/step - loss: 0.2981 - accuracy: 0.8720 - val_loss: 0.3639 - val_accuracy: 0.8349\n",
      "Epoch 8/20\n",
      "752/752 [==============================] - 2s 2ms/step - loss: 0.2804 - accuracy: 0.8819 - val_loss: 0.3629 - val_accuracy: 0.8416\n",
      "Epoch 9/20\n",
      "752/752 [==============================] - 2s 2ms/step - loss: 0.2633 - accuracy: 0.8921 - val_loss: 0.3635 - val_accuracy: 0.8409\n",
      "Epoch 10/20\n",
      "752/752 [==============================] - 2s 2ms/step - loss: 0.2466 - accuracy: 0.9003 - val_loss: 0.3654 - val_accuracy: 0.8454\n",
      "Epoch 11/20\n",
      "752/752 [==============================] - 2s 2ms/step - loss: 0.2303 - accuracy: 0.9094 - val_loss: 0.3682 - val_accuracy: 0.8476\n",
      "Epoch 12/20\n",
      "752/752 [==============================] - 2s 2ms/step - loss: 0.2144 - accuracy: 0.9197 - val_loss: 0.3716 - val_accuracy: 0.8465\n",
      "Epoch 13/20\n",
      "752/752 [==============================] - 2s 2ms/step - loss: 0.1992 - accuracy: 0.9280 - val_loss: 0.3763 - val_accuracy: 0.8469\n"
     ]
    }
   ],
   "source": [
    "model_4_history = model_4.fit(train_dataset,\n",
    "                              epochs=20,\n",
    "                              validation_data=val_dataset,\n",
    "                              callbacks=[tf.keras.callbacks.EarlyStopping(monitor=\"val_loss\", patience=5,restore_best_weights=True)])"
   ],
   "metadata": {
    "collapsed": false,
    "ExecuteTime": {
     "end_time": "2023-05-24T14:37:57.207188Z",
     "start_time": "2023-05-24T14:37:32.594229Z"
    }
   }
  },
  {
   "cell_type": "code",
   "execution_count": 105,
   "outputs": [
    {
     "name": "stdout",
     "output_type": "stream",
     "text": [
      "84/84 [==============================] - 0s 2ms/step - loss: 0.3629 - accuracy: 0.8416\n"
     ]
    },
    {
     "data": {
      "text/plain": "[0.3629273772239685, 0.8416323661804199]"
     },
     "execution_count": 105,
     "metadata": {},
     "output_type": "execute_result"
    }
   ],
   "source": [
    "model_4.evaluate(val_dataset)"
   ],
   "metadata": {
    "collapsed": false,
    "ExecuteTime": {
     "end_time": "2023-05-24T14:44:53.762697Z",
     "start_time": "2023-05-24T14:44:53.597453Z"
    }
   }
  },
  {
   "cell_type": "code",
   "execution_count": null,
   "outputs": [],
   "source": [],
   "metadata": {
    "collapsed": false
   }
  }
 ],
 "metadata": {
  "kernelspec": {
   "display_name": "Python 3",
   "language": "python",
   "name": "python3"
  },
  "language_info": {
   "codemirror_mode": {
    "name": "ipython",
    "version": 2
   },
   "file_extension": ".py",
   "mimetype": "text/x-python",
   "name": "python",
   "nbconvert_exporter": "python",
   "pygments_lexer": "ipython2",
   "version": "2.7.6"
  }
 },
 "nbformat": 4,
 "nbformat_minor": 0
}
