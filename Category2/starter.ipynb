{
 "cells": [
  {
   "cell_type": "code",
   "execution_count": 1,
   "metadata": {
    "collapsed": true,
    "ExecuteTime": {
     "end_time": "2023-05-22T21:26:36.457640Z",
     "start_time": "2023-05-22T21:26:34.309463Z"
    }
   },
   "outputs": [
    {
     "data": {
      "text/plain": "'2.10.0'"
     },
     "execution_count": 1,
     "metadata": {},
     "output_type": "execute_result"
    }
   ],
   "source": [
    "import numpy as np\n",
    "import pandas as pd\n",
    "import tensorflow as tf\n",
    "import tensorflow_datasets as tfds\n",
    "\n",
    "tf.__version__"
   ]
  },
  {
   "cell_type": "code",
   "execution_count": 2,
   "outputs": [
    {
     "name": "stderr",
     "output_type": "stream",
     "text": [
      "2023-05-22 22:27:03.422093: W tensorflow/core/platform/cloud/google_auth_provider.cc:184] All attempts to get a Google authentication bearer token failed, returning an empty token. Retrieving token from files failed with \"NOT_FOUND: Could not locate the credentials file.\". Retrieving token from GCE failed with \"FAILED_PRECONDITION: Error executing an HTTP request: libcurl code 6 meaning 'Couldn't resolve host name', error details: Could not resolve host: metadata\".\n"
     ]
    },
    {
     "name": "stdout",
     "output_type": "stream",
     "text": [
      "\u001B[1mDownloading and preparing dataset 11.06 MiB (download: 11.06 MiB, generated: 21.00 MiB, total: 32.06 MiB) to ~/tensorflow_datasets/mnist/3.0.1...\u001B[0m\n"
     ]
    },
    {
     "data": {
      "text/plain": "Dl Completed...:   0%|          | 0/5 [00:00<?, ? file/s]",
      "application/vnd.jupyter.widget-view+json": {
       "version_major": 2,
       "version_minor": 0,
       "model_id": "af80dfd7d69143828667486f66a1aba1"
      }
     },
     "metadata": {},
     "output_type": "display_data"
    },
    {
     "name": "stdout",
     "output_type": "stream",
     "text": [
      "\u001B[1mDataset mnist downloaded and prepared to ~/tensorflow_datasets/mnist/3.0.1. Subsequent calls will reuse this data.\u001B[0m\n"
     ]
    }
   ],
   "source": [
    "(ds_train, ds_test), ds_info = tfds.load(\n",
    "    'mnist',\n",
    "    split=['train', 'test'],\n",
    "    shuffle_files=True,\n",
    "    as_supervised=True,\n",
    "    with_info=True,\n",
    ")"
   ],
   "metadata": {
    "collapsed": false,
    "ExecuteTime": {
     "end_time": "2023-05-22T21:27:08.977744Z",
     "start_time": "2023-05-22T21:27:03.327433Z"
    }
   }
  },
  {
   "cell_type": "code",
   "execution_count": 3,
   "outputs": [],
   "source": [
    "def normalize_img(image, label):\n",
    "  \"\"\"Normalizes images: `uint8` -> `float32`.\"\"\"\n",
    "  return tf.cast(image, tf.float32) / 255., label"
   ],
   "metadata": {
    "collapsed": false,
    "ExecuteTime": {
     "end_time": "2023-05-22T21:28:00.246658Z",
     "start_time": "2023-05-22T21:28:00.241664Z"
    }
   }
  },
  {
   "cell_type": "code",
   "execution_count": 8,
   "outputs": [],
   "source": [
    "ds_train = ds_train.map(\n",
    "    normalize_img, num_parallel_calls=tf.data.AUTOTUNE)\n",
    "ds_train = ds_train.cache()\n",
    "ds_train = ds_train.shuffle(ds_info.splits['train'].num_examples)\n",
    "ds_train = ds_train.batch(128)\n",
    "ds_train = ds_train.prefetch(tf.data.AUTOTUNE)"
   ],
   "metadata": {
    "collapsed": false,
    "ExecuteTime": {
     "end_time": "2023-05-22T21:29:33.847373Z",
     "start_time": "2023-05-22T21:29:33.817703Z"
    }
   }
  },
  {
   "cell_type": "code",
   "execution_count": 9,
   "outputs": [],
   "source": [
    "ds_test = ds_test.map(\n",
    "    normalize_img, num_parallel_calls=tf.data.AUTOTUNE)\n",
    "ds_test = ds_test.batch(128)\n",
    "ds_test = ds_test.cache()\n",
    "ds_test = ds_test.prefetch(tf.data.AUTOTUNE)"
   ],
   "metadata": {
    "collapsed": false,
    "ExecuteTime": {
     "end_time": "2023-05-22T21:30:04.048339Z",
     "start_time": "2023-05-22T21:30:04.040137Z"
    }
   }
  },
  {
   "cell_type": "code",
   "execution_count": 10,
   "outputs": [
    {
     "name": "stdout",
     "output_type": "stream",
     "text": [
      "Epoch 1/10\n"
     ]
    },
    {
     "name": "stderr",
     "output_type": "stream",
     "text": [
      "2023-05-22 22:30:44.825272: W tensorflow/core/platform/profile_utils/cpu_utils.cc:128] Failed to get CPU frequency: 0 Hz\n"
     ]
    },
    {
     "name": "stdout",
     "output_type": "stream",
     "text": [
      "469/469 [==============================] - 2s 1ms/step - loss: 0.3579 - sparse_categorical_accuracy: 0.9017 - val_loss: 0.1948 - val_sparse_categorical_accuracy: 0.9443\n",
      "Epoch 2/10\n",
      "469/469 [==============================] - 0s 888us/step - loss: 0.1631 - sparse_categorical_accuracy: 0.9534 - val_loss: 0.1335 - val_sparse_categorical_accuracy: 0.9625\n",
      "Epoch 3/10\n",
      "469/469 [==============================] - 0s 865us/step - loss: 0.1166 - sparse_categorical_accuracy: 0.9666 - val_loss: 0.1063 - val_sparse_categorical_accuracy: 0.9680\n",
      "Epoch 4/10\n",
      "469/469 [==============================] - 0s 906us/step - loss: 0.0909 - sparse_categorical_accuracy: 0.9739 - val_loss: 0.0947 - val_sparse_categorical_accuracy: 0.9725\n",
      "Epoch 5/10\n",
      "469/469 [==============================] - 0s 885us/step - loss: 0.0728 - sparse_categorical_accuracy: 0.9791 - val_loss: 0.0904 - val_sparse_categorical_accuracy: 0.9711\n",
      "Epoch 6/10\n",
      "469/469 [==============================] - 0s 877us/step - loss: 0.0597 - sparse_categorical_accuracy: 0.9831 - val_loss: 0.0802 - val_sparse_categorical_accuracy: 0.9751\n",
      "Epoch 7/10\n",
      "469/469 [==============================] - 0s 863us/step - loss: 0.0502 - sparse_categorical_accuracy: 0.9857 - val_loss: 0.0785 - val_sparse_categorical_accuracy: 0.9756\n",
      "Epoch 8/10\n",
      "469/469 [==============================] - 0s 879us/step - loss: 0.0425 - sparse_categorical_accuracy: 0.9879 - val_loss: 0.0789 - val_sparse_categorical_accuracy: 0.9760\n",
      "Epoch 9/10\n",
      "469/469 [==============================] - 0s 892us/step - loss: 0.0357 - sparse_categorical_accuracy: 0.9901 - val_loss: 0.0748 - val_sparse_categorical_accuracy: 0.9761\n",
      "Epoch 10/10\n",
      "469/469 [==============================] - 0s 883us/step - loss: 0.0299 - sparse_categorical_accuracy: 0.9921 - val_loss: 0.0734 - val_sparse_categorical_accuracy: 0.9786\n"
     ]
    },
    {
     "data": {
      "text/plain": "<keras.callbacks.History at 0x2a7b5e400>"
     },
     "execution_count": 10,
     "metadata": {},
     "output_type": "execute_result"
    }
   ],
   "source": [
    "model = tf.keras.models.Sequential([\n",
    "  tf.keras.layers.Flatten(input_shape=(28, 28)),\n",
    "  tf.keras.layers.Dense(128, activation='relu'),\n",
    "  tf.keras.layers.Dense(10)\n",
    "])\n",
    "model.compile(\n",
    "    optimizer=tf.keras.optimizers.Adam(0.001),\n",
    "    loss=tf.keras.losses.SparseCategoricalCrossentropy(from_logits=True),\n",
    "    metrics=[tf.keras.metrics.SparseCategoricalAccuracy()],\n",
    ")\n",
    "\n",
    "model.fit(\n",
    "    ds_train,\n",
    "    epochs=10,\n",
    "    validation_data=ds_test,\n",
    ")"
   ],
   "metadata": {
    "collapsed": false,
    "ExecuteTime": {
     "end_time": "2023-05-22T21:30:50.320719Z",
     "start_time": "2023-05-22T21:30:44.670776Z"
    }
   }
  },
  {
   "cell_type": "code",
   "execution_count": null,
   "outputs": [],
   "source": [],
   "metadata": {
    "collapsed": false
   }
  }
 ],
 "metadata": {
  "kernelspec": {
   "display_name": "Python 3",
   "language": "python",
   "name": "python3"
  },
  "language_info": {
   "codemirror_mode": {
    "name": "ipython",
    "version": 2
   },
   "file_extension": ".py",
   "mimetype": "text/x-python",
   "name": "python",
   "nbconvert_exporter": "python",
   "pygments_lexer": "ipython2",
   "version": "2.7.6"
  }
 },
 "nbformat": 4,
 "nbformat_minor": 0
}
