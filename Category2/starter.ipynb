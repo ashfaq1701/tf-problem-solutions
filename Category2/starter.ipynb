{
 "cells": [
  {
   "cell_type": "code",
   "execution_count": 1,
   "metadata": {
    "collapsed": true,
    "ExecuteTime": {
     "end_time": "2023-05-27T00:54:08.791332Z",
     "start_time": "2023-05-27T00:54:03.585799Z"
    }
   },
   "outputs": [
    {
     "data": {
      "text/plain": "'2.10.0'"
     },
     "execution_count": 1,
     "metadata": {},
     "output_type": "execute_result"
    }
   ],
   "source": [
    "import numpy as np\n",
    "import pandas as pd\n",
    "import tensorflow as tf\n",
    "import tensorflow_datasets as tfds\n",
    "\n",
    "tf.__version__"
   ]
  },
  {
   "cell_type": "code",
   "execution_count": 2,
   "outputs": [
    {
     "name": "stderr",
     "output_type": "stream",
     "text": [
      "2023-05-22 22:27:03.422093: W tensorflow/core/platform/cloud/google_auth_provider.cc:184] All attempts to get a Google authentication bearer token failed, returning an empty token. Retrieving token from files failed with \"NOT_FOUND: Could not locate the credentials file.\". Retrieving token from GCE failed with \"FAILED_PRECONDITION: Error executing an HTTP request: libcurl code 6 meaning 'Couldn't resolve host name', error details: Could not resolve host: metadata\".\n"
     ]
    },
    {
     "name": "stdout",
     "output_type": "stream",
     "text": [
      "\u001B[1mDownloading and preparing dataset 11.06 MiB (download: 11.06 MiB, generated: 21.00 MiB, total: 32.06 MiB) to ~/tensorflow_datasets/mnist/3.0.1...\u001B[0m\n"
     ]
    },
    {
     "data": {
      "text/plain": "Dl Completed...:   0%|          | 0/5 [00:00<?, ? file/s]",
      "application/vnd.jupyter.widget-view+json": {
       "version_major": 2,
       "version_minor": 0,
       "model_id": "af80dfd7d69143828667486f66a1aba1"
      }
     },
     "metadata": {},
     "output_type": "display_data"
    },
    {
     "name": "stdout",
     "output_type": "stream",
     "text": [
      "\u001B[1mDataset mnist downloaded and prepared to ~/tensorflow_datasets/mnist/3.0.1. Subsequent calls will reuse this data.\u001B[0m\n"
     ]
    }
   ],
   "source": [
    "(ds_train, ds_test), ds_info = tfds.load(\n",
    "    'mnist',\n",
    "    split=['train', 'test'],\n",
    "    shuffle_files=True,\n",
    "    as_supervised=True,\n",
    "    with_info=True,\n",
    ")"
   ],
   "metadata": {
    "collapsed": false,
    "ExecuteTime": {
     "end_time": "2023-05-22T21:27:08.977744Z",
     "start_time": "2023-05-22T21:27:03.327433Z"
    }
   }
  },
  {
   "cell_type": "code",
   "execution_count": 3,
   "outputs": [],
   "source": [
    "def normalize_img(image, label):\n",
    "  \"\"\"Normalizes images: `uint8` -> `float32`.\"\"\"\n",
    "  return tf.cast(image, tf.float32) / 255., label"
   ],
   "metadata": {
    "collapsed": false,
    "ExecuteTime": {
     "end_time": "2023-05-22T21:28:00.246658Z",
     "start_time": "2023-05-22T21:28:00.241664Z"
    }
   }
  },
  {
   "cell_type": "code",
   "execution_count": 8,
   "outputs": [],
   "source": [
    "ds_train = ds_train.map(\n",
    "    normalize_img, num_parallel_calls=tf.data.AUTOTUNE)\n",
    "ds_train = ds_train.cache()\n",
    "ds_train = ds_train.shuffle(ds_info.splits['train'].num_examples)\n",
    "ds_train = ds_train.batch(128)\n",
    "ds_train = ds_train.prefetch(tf.data.AUTOTUNE)"
   ],
   "metadata": {
    "collapsed": false,
    "ExecuteTime": {
     "end_time": "2023-05-22T21:29:33.847373Z",
     "start_time": "2023-05-22T21:29:33.817703Z"
    }
   }
  },
  {
   "cell_type": "code",
   "execution_count": 9,
   "outputs": [],
   "source": [
    "ds_test = ds_test.map(\n",
    "    normalize_img, num_parallel_calls=tf.data.AUTOTUNE)\n",
    "ds_test = ds_test.batch(128)\n",
    "ds_test = ds_test.cache()\n",
    "ds_test = ds_test.prefetch(tf.data.AUTOTUNE)"
   ],
   "metadata": {
    "collapsed": false,
    "ExecuteTime": {
     "end_time": "2023-05-22T21:30:04.048339Z",
     "start_time": "2023-05-22T21:30:04.040137Z"
    }
   }
  },
  {
   "cell_type": "code",
   "execution_count": 10,
   "outputs": [
    {
     "name": "stdout",
     "output_type": "stream",
     "text": [
      "Epoch 1/10\n"
     ]
    },
    {
     "name": "stderr",
     "output_type": "stream",
     "text": [
      "2023-05-22 22:30:44.825272: W tensorflow/core/platform/profile_utils/cpu_utils.cc:128] Failed to get CPU frequency: 0 Hz\n"
     ]
    },
    {
     "name": "stdout",
     "output_type": "stream",
     "text": [
      "469/469 [==============================] - 2s 1ms/step - loss: 0.3579 - sparse_categorical_accuracy: 0.9017 - val_loss: 0.1948 - val_sparse_categorical_accuracy: 0.9443\n",
      "Epoch 2/10\n",
      "469/469 [==============================] - 0s 888us/step - loss: 0.1631 - sparse_categorical_accuracy: 0.9534 - val_loss: 0.1335 - val_sparse_categorical_accuracy: 0.9625\n",
      "Epoch 3/10\n",
      "469/469 [==============================] - 0s 865us/step - loss: 0.1166 - sparse_categorical_accuracy: 0.9666 - val_loss: 0.1063 - val_sparse_categorical_accuracy: 0.9680\n",
      "Epoch 4/10\n",
      "469/469 [==============================] - 0s 906us/step - loss: 0.0909 - sparse_categorical_accuracy: 0.9739 - val_loss: 0.0947 - val_sparse_categorical_accuracy: 0.9725\n",
      "Epoch 5/10\n",
      "469/469 [==============================] - 0s 885us/step - loss: 0.0728 - sparse_categorical_accuracy: 0.9791 - val_loss: 0.0904 - val_sparse_categorical_accuracy: 0.9711\n",
      "Epoch 6/10\n",
      "469/469 [==============================] - 0s 877us/step - loss: 0.0597 - sparse_categorical_accuracy: 0.9831 - val_loss: 0.0802 - val_sparse_categorical_accuracy: 0.9751\n",
      "Epoch 7/10\n",
      "469/469 [==============================] - 0s 863us/step - loss: 0.0502 - sparse_categorical_accuracy: 0.9857 - val_loss: 0.0785 - val_sparse_categorical_accuracy: 0.9756\n",
      "Epoch 8/10\n",
      "469/469 [==============================] - 0s 879us/step - loss: 0.0425 - sparse_categorical_accuracy: 0.9879 - val_loss: 0.0789 - val_sparse_categorical_accuracy: 0.9760\n",
      "Epoch 9/10\n",
      "469/469 [==============================] - 0s 892us/step - loss: 0.0357 - sparse_categorical_accuracy: 0.9901 - val_loss: 0.0748 - val_sparse_categorical_accuracy: 0.9761\n",
      "Epoch 10/10\n",
      "469/469 [==============================] - 0s 883us/step - loss: 0.0299 - sparse_categorical_accuracy: 0.9921 - val_loss: 0.0734 - val_sparse_categorical_accuracy: 0.9786\n"
     ]
    },
    {
     "data": {
      "text/plain": "<keras.callbacks.History at 0x2a7b5e400>"
     },
     "execution_count": 10,
     "metadata": {},
     "output_type": "execute_result"
    }
   ],
   "source": [
    "model = tf.keras.models.Sequential([\n",
    "  tf.keras.layers.Flatten(input_shape=(28, 28)),\n",
    "  tf.keras.layers.Dense(128, activation='relu'),\n",
    "  tf.keras.layers.Dense(10)\n",
    "])\n",
    "model.compile(\n",
    "    optimizer=tf.keras.optimizers.Adam(0.001),\n",
    "    loss=tf.keras.losses.SparseCategoricalCrossentropy(from_logits=True),\n",
    "    metrics=[tf.keras.metrics.SparseCategoricalAccuracy()],\n",
    ")\n",
    "\n",
    "model.fit(\n",
    "    ds_train,\n",
    "    epochs=10,\n",
    "    validation_data=ds_test,\n",
    ")"
   ],
   "metadata": {
    "collapsed": false,
    "ExecuteTime": {
     "end_time": "2023-05-22T21:30:50.320719Z",
     "start_time": "2023-05-22T21:30:44.670776Z"
    }
   }
  },
  {
   "cell_type": "markdown",
   "source": [
    "## Like the course"
   ],
   "metadata": {
    "collapsed": false
   }
  },
  {
   "cell_type": "code",
   "execution_count": 2,
   "outputs": [],
   "source": [
    "from tensorflow.keras.datasets import fashion_mnist"
   ],
   "metadata": {
    "collapsed": false,
    "ExecuteTime": {
     "end_time": "2023-05-27T00:55:49.027950Z",
     "start_time": "2023-05-27T00:55:49.018566Z"
    }
   }
  },
  {
   "cell_type": "code",
   "execution_count": 3,
   "outputs": [
    {
     "name": "stdout",
     "output_type": "stream",
     "text": [
      "Downloading data from https://storage.googleapis.com/tensorflow/tf-keras-datasets/train-labels-idx1-ubyte.gz\n",
      "29515/29515 [==============================] - 0s 4us/step\n",
      "Downloading data from https://storage.googleapis.com/tensorflow/tf-keras-datasets/train-images-idx3-ubyte.gz\n",
      "26421880/26421880 [==============================] - 2s 0us/step\n",
      "Downloading data from https://storage.googleapis.com/tensorflow/tf-keras-datasets/t10k-labels-idx1-ubyte.gz\n",
      "5148/5148 [==============================] - 0s 0us/step\n",
      "Downloading data from https://storage.googleapis.com/tensorflow/tf-keras-datasets/t10k-images-idx3-ubyte.gz\n",
      "4422102/4422102 [==============================] - 1s 0us/step\n"
     ]
    }
   ],
   "source": [
    "(train_data, train_labels), (test_data, test_labels) = fashion_mnist.load_data()"
   ],
   "metadata": {
    "collapsed": false,
    "ExecuteTime": {
     "end_time": "2023-05-27T00:56:09.580496Z",
     "start_time": "2023-05-27T00:56:04.314495Z"
    }
   }
  },
  {
   "cell_type": "code",
   "execution_count": 4,
   "outputs": [],
   "source": [
    "train_data = train_data / 255.0\n",
    "test_data = test_data / 255.0"
   ],
   "metadata": {
    "collapsed": false,
    "ExecuteTime": {
     "end_time": "2023-05-27T00:57:17.543231Z",
     "start_time": "2023-05-27T00:57:17.461266Z"
    }
   }
  },
  {
   "cell_type": "code",
   "execution_count": 8,
   "outputs": [
    {
     "name": "stdout",
     "output_type": "stream",
     "text": [
      "Epoch 1/20\n",
      "1875/1875 [==============================] - 2s 754us/step - loss: 0.4853 - accuracy: 0.8261 - val_loss: 0.4112 - val_accuracy: 0.8513\n",
      "Epoch 2/20\n",
      "1875/1875 [==============================] - 1s 729us/step - loss: 0.3598 - accuracy: 0.8686 - val_loss: 0.4456 - val_accuracy: 0.8480\n",
      "Epoch 3/20\n",
      "1875/1875 [==============================] - 1s 715us/step - loss: 0.3276 - accuracy: 0.8800 - val_loss: 0.3730 - val_accuracy: 0.8607\n",
      "Epoch 4/20\n",
      "1875/1875 [==============================] - 1s 715us/step - loss: 0.3031 - accuracy: 0.8883 - val_loss: 0.3707 - val_accuracy: 0.8652\n",
      "Epoch 5/20\n",
      "1875/1875 [==============================] - 1s 721us/step - loss: 0.2874 - accuracy: 0.8918 - val_loss: 0.3609 - val_accuracy: 0.8671\n",
      "Epoch 6/20\n",
      "1875/1875 [==============================] - 1s 724us/step - loss: 0.2731 - accuracy: 0.8976 - val_loss: 0.3583 - val_accuracy: 0.8692\n",
      "Epoch 7/20\n",
      "1875/1875 [==============================] - 1s 725us/step - loss: 0.2631 - accuracy: 0.9010 - val_loss: 0.3510 - val_accuracy: 0.8741\n",
      "Epoch 8/20\n",
      "1875/1875 [==============================] - 1s 716us/step - loss: 0.2518 - accuracy: 0.9046 - val_loss: 0.3320 - val_accuracy: 0.8834\n",
      "Epoch 9/20\n",
      "1875/1875 [==============================] - 1s 731us/step - loss: 0.2406 - accuracy: 0.9091 - val_loss: 0.3413 - val_accuracy: 0.8802\n",
      "Epoch 10/20\n",
      "1875/1875 [==============================] - 1s 718us/step - loss: 0.2326 - accuracy: 0.9108 - val_loss: 0.3283 - val_accuracy: 0.8839\n",
      "Epoch 11/20\n",
      "1875/1875 [==============================] - 1s 717us/step - loss: 0.2246 - accuracy: 0.9146 - val_loss: 0.3345 - val_accuracy: 0.8803\n",
      "Epoch 12/20\n",
      "1875/1875 [==============================] - 1s 716us/step - loss: 0.2144 - accuracy: 0.9191 - val_loss: 0.3518 - val_accuracy: 0.8778\n",
      "Epoch 13/20\n",
      "1875/1875 [==============================] - 1s 716us/step - loss: 0.2087 - accuracy: 0.9208 - val_loss: 0.3395 - val_accuracy: 0.8847\n",
      "Epoch 14/20\n",
      "1875/1875 [==============================] - 1s 717us/step - loss: 0.2043 - accuracy: 0.9230 - val_loss: 0.3359 - val_accuracy: 0.8871\n",
      "Epoch 15/20\n",
      "1875/1875 [==============================] - 1s 722us/step - loss: 0.1946 - accuracy: 0.9262 - val_loss: 0.3696 - val_accuracy: 0.8813\n",
      "Epoch 16/20\n",
      "1875/1875 [==============================] - 1s 720us/step - loss: 0.1878 - accuracy: 0.9280 - val_loss: 0.3662 - val_accuracy: 0.8791\n",
      "Epoch 17/20\n",
      "1875/1875 [==============================] - 1s 714us/step - loss: 0.1830 - accuracy: 0.9296 - val_loss: 0.3695 - val_accuracy: 0.8893\n",
      "Epoch 18/20\n",
      "1875/1875 [==============================] - 1s 716us/step - loss: 0.1794 - accuracy: 0.9313 - val_loss: 0.3714 - val_accuracy: 0.8861\n",
      "Epoch 19/20\n",
      "1875/1875 [==============================] - 1s 717us/step - loss: 0.1755 - accuracy: 0.9323 - val_loss: 0.3646 - val_accuracy: 0.8839\n",
      "Epoch 20/20\n",
      "1875/1875 [==============================] - 1s 718us/step - loss: 0.1661 - accuracy: 0.9366 - val_loss: 0.3989 - val_accuracy: 0.8871\n"
     ]
    }
   ],
   "source": [
    "tf.random.set_seed(42)\n",
    "\n",
    "model_2 = tf.keras.Sequential([\n",
    "    tf.keras.layers.Flatten(input_shape=(28, 28)),\n",
    "    tf.keras.layers.Dense(128, activation=\"relu\"),\n",
    "    tf.keras.layers.Dense(128, activation=\"relu\"),\n",
    "    tf.keras.layers.Dense(10, activation=\"softmax\")\n",
    "])\n",
    "\n",
    "model_2.compile(loss=tf.keras.losses.SparseCategoricalCrossentropy(),\n",
    "                 optimizer=tf.keras.optimizers.Adam(lr=0.001),\n",
    "                 metrics=[\"accuracy\"])\n",
    "\n",
    "history = model_2.fit(train_data,\n",
    "                       train_labels,\n",
    "                       epochs=20,\n",
    "                       validation_data=(test_data, test_labels))"
   ],
   "metadata": {
    "collapsed": false,
    "ExecuteTime": {
     "end_time": "2023-05-27T01:02:37.422289Z",
     "start_time": "2023-05-27T01:02:10.124022Z"
    }
   }
  },
  {
   "cell_type": "code",
   "execution_count": 9,
   "outputs": [
    {
     "name": "stdout",
     "output_type": "stream",
     "text": [
      "313/313 [==============================] - 0s 375us/step - loss: 0.3989 - accuracy: 0.8871\n"
     ]
    },
    {
     "data": {
      "text/plain": "[0.3989432454109192, 0.8870999813079834]"
     },
     "execution_count": 9,
     "metadata": {},
     "output_type": "execute_result"
    }
   ],
   "source": [
    "model_2.evaluate(test_data, test_labels)"
   ],
   "metadata": {
    "collapsed": false,
    "ExecuteTime": {
     "end_time": "2023-05-27T01:02:54.176602Z",
     "start_time": "2023-05-27T01:02:54.018843Z"
    }
   }
  },
  {
   "cell_type": "code",
   "execution_count": null,
   "outputs": [],
   "source": [],
   "metadata": {
    "collapsed": false
   }
  }
 ],
 "metadata": {
  "kernelspec": {
   "display_name": "Python 3",
   "language": "python",
   "name": "python3"
  },
  "language_info": {
   "codemirror_mode": {
    "name": "ipython",
    "version": 2
   },
   "file_extension": ".py",
   "mimetype": "text/x-python",
   "name": "python",
   "nbconvert_exporter": "python",
   "pygments_lexer": "ipython2",
   "version": "2.7.6"
  }
 },
 "nbformat": 4,
 "nbformat_minor": 0
}
